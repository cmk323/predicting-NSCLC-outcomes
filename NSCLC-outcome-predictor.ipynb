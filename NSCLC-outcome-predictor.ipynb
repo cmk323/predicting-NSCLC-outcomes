{
 "cells": [
  {
   "cell_type": "markdown",
   "metadata": {},
   "source": [
    "# Using simulated clinical and genomic data to build and evaluate a predictive model of one-year survival after diagnosis with NSCLC"
   ]
  },
  {
   "cell_type": "markdown",
   "metadata": {},
   "source": [
    "## Background\n",
    "\n",
    "Lung cancer is the leading cause of cancer-related deaths worldwide. In 2018, the United States is estimated to have had approximately 234,030 new diagnoses of lung cancer, with an estimated 154,050 deaths. As lung cancer is a highly heterogeneous disease with variable survival outcomes, there has been wide interest in developing prognostic models that integrate varying sources of patient information (e.g. demographic, clinical, genomic, imaging) to predict patient survival following diagnosis. An eventual goal for these models is to deploy them as part of decision support systems to facilitate improved decision making in routine clinical practice."
   ]
  },
  {
   "cell_type": "markdown",
   "metadata": {},
   "source": [
    "### Data Description"
   ]
  },
  {
   "cell_type": "markdown",
   "metadata": {},
   "source": [
    "**File Name:** clinical.csv\n",
    "\n",
    "**Description:** Contains clinical data on each patient. Its columns are as follows:\n",
    "- **ID:** A unique identifier for the patient.\n",
    "- **Outcome:** Whether the patient is alive or dead at the followup time.\n",
    "- **Survival.months:** The followup time in months.\n",
    "- **Age:** The patient’s age (in years) at diagnosis.\n",
    "- **Primary Site:** Location of primary tumor.\n",
    "- **Histology:** The tumor histology\n",
    "- **Stage:** Stage at diagnosis.\n",
    "- **Grade:** Tumor grade (1-4 or missing).\n",
    "- **Num.Primaries:** Number of primary tumors.\n",
    "- **Tumor.Size:** Size of the tumor at diagnosis.\n",
    "- **T:** Tumor Stage.\n",
    "- **N:** Number of metastasis to lymph nodes.\n",
    "- **M:** Number of distant metastases.\n",
    "- **Radiation:** Whether radiation took place (5) or not (0).\n",
    "- **Num.Mutations:** The total number mutations found in the tumor.\n",
    "- **Num.Mutated.Genes:** The total number of genes with mutation."
   ]
  },
  {
   "cell_type": "markdown",
   "metadata": {},
   "source": [
    "**File Name:** genomics.csv\n",
    "\n",
    "**Description:** Contains information as to which genes were found to have mutation in\n",
    "each patient’s tumor sequencing data. Only genes with mutation are listed. Its columns are as follows:\n",
    "\n",
    "- **ID:** A unique identifier for the patient.\n",
    "- **Gene:** The name of the gene."
   ]
  },
  {
   "cell_type": "markdown",
   "metadata": {},
   "source": [
    "## Imports"
   ]
  },
  {
   "cell_type": "code",
   "execution_count": 3895,
   "metadata": {},
   "outputs": [],
   "source": [
    "import pandas as pd\n",
    "import matplotlib.pyplot as plt\n",
    "import seaborn as sns\n",
    "from turtle import title\n",
    "import numpy as np\n",
    "from sklearn.impute import SimpleImputer\n",
    "from sklearn.ensemble import RandomForestClassifier\n",
    "from sklearn.model_selection import train_test_split\n",
    "from sklearn.model_selection import cross_val_score\n",
    "from sklearn.model_selection import KFold\n",
    "from sklearn.metrics import classification_report\n",
    "from sklearn.metrics import confusion_matrix\n",
    "from sklearn.metrics import accuracy_score\n",
    "from sklearn.metrics import mean_absolute_error\n",
    "from sklearn.neighbors import KNeighborsClassifier\n",
    "import warnings"
   ]
  },
  {
   "cell_type": "markdown",
   "metadata": {},
   "source": [
    "## Load the Data"
   ]
  },
  {
   "cell_type": "code",
   "execution_count": 3896,
   "metadata": {},
   "outputs": [],
   "source": [
    "data_clinical_raw = pd.read_csv('Data/clinical.csv')\n",
    "data_genomic_raw = pd.read_csv('Data/genomics.csv')\n",
    "df_data_clinical_raw = pd.DataFrame(data_clinical_raw)\n",
    "df_data_genomic_raw = pd.DataFrame(data_genomic_raw)"
   ]
  },
  {
   "cell_type": "markdown",
   "metadata": {},
   "source": [
    "## Initial Data Exploration"
   ]
  },
  {
   "cell_type": "markdown",
   "metadata": {},
   "source": [
    "### Clinical Data"
   ]
  },
  {
   "cell_type": "code",
   "execution_count": 3897,
   "metadata": {},
   "outputs": [
    {
     "data": {
      "text/html": [
       "<div>\n",
       "<style scoped>\n",
       "    .dataframe tbody tr th:only-of-type {\n",
       "        vertical-align: middle;\n",
       "    }\n",
       "\n",
       "    .dataframe tbody tr th {\n",
       "        vertical-align: top;\n",
       "    }\n",
       "\n",
       "    .dataframe thead th {\n",
       "        text-align: right;\n",
       "    }\n",
       "</style>\n",
       "<table border=\"1\" class=\"dataframe\">\n",
       "  <thead>\n",
       "    <tr style=\"text-align: right;\">\n",
       "      <th></th>\n",
       "      <th>ID</th>\n",
       "      <th>Outcome</th>\n",
       "      <th>Survival.Months</th>\n",
       "      <th>Age</th>\n",
       "      <th>Grade</th>\n",
       "      <th>Num.Primaries</th>\n",
       "      <th>T</th>\n",
       "      <th>N</th>\n",
       "      <th>M</th>\n",
       "      <th>Radiation</th>\n",
       "      <th>Stage</th>\n",
       "      <th>Primary.Site</th>\n",
       "      <th>Histology</th>\n",
       "      <th>Tumor.Size</th>\n",
       "      <th>Num.Mutated.Genes</th>\n",
       "      <th>Num.Mutations</th>\n",
       "    </tr>\n",
       "  </thead>\n",
       "  <tbody>\n",
       "    <tr>\n",
       "      <th>0</th>\n",
       "      <td>1</td>\n",
       "      <td>Alive</td>\n",
       "      <td>9.0</td>\n",
       "      <td>67</td>\n",
       "      <td>4</td>\n",
       "      <td>0</td>\n",
       "      <td>UNK</td>\n",
       "      <td>2.0</td>\n",
       "      <td>NaN</td>\n",
       "      <td>0</td>\n",
       "      <td>IV</td>\n",
       "      <td>Left Lower Lobe</td>\n",
       "      <td>Squamous cell carcinoma</td>\n",
       "      <td>1.4</td>\n",
       "      <td>8</td>\n",
       "      <td>8</td>\n",
       "    </tr>\n",
       "    <tr>\n",
       "      <th>1</th>\n",
       "      <td>2</td>\n",
       "      <td>Dead</td>\n",
       "      <td>19.0</td>\n",
       "      <td>73</td>\n",
       "      <td>2</td>\n",
       "      <td>0</td>\n",
       "      <td>UNK</td>\n",
       "      <td>2.0</td>\n",
       "      <td>0.0</td>\n",
       "      <td>5</td>\n",
       "      <td>IV</td>\n",
       "      <td>Right Upper Lobe</td>\n",
       "      <td>Adenocarcinoma</td>\n",
       "      <td>NaN</td>\n",
       "      <td>2</td>\n",
       "      <td>2</td>\n",
       "    </tr>\n",
       "    <tr>\n",
       "      <th>2</th>\n",
       "      <td>3</td>\n",
       "      <td>Dead</td>\n",
       "      <td>13.0</td>\n",
       "      <td>72</td>\n",
       "      <td>3</td>\n",
       "      <td>0</td>\n",
       "      <td>2</td>\n",
       "      <td>2.0</td>\n",
       "      <td>0.0</td>\n",
       "      <td>0</td>\n",
       "      <td>IIIA</td>\n",
       "      <td>Right Upper Lobe</td>\n",
       "      <td>Adenocarcinoma</td>\n",
       "      <td>1.5</td>\n",
       "      <td>1</td>\n",
       "      <td>1</td>\n",
       "    </tr>\n",
       "    <tr>\n",
       "      <th>3</th>\n",
       "      <td>4</td>\n",
       "      <td>Dead</td>\n",
       "      <td>15.0</td>\n",
       "      <td>69</td>\n",
       "      <td>9</td>\n",
       "      <td>1</td>\n",
       "      <td>1a</td>\n",
       "      <td>0.0</td>\n",
       "      <td>1.0</td>\n",
       "      <td>0</td>\n",
       "      <td>IA</td>\n",
       "      <td>Right Upper Lobe</td>\n",
       "      <td>Adenocarcinoma</td>\n",
       "      <td>NaN</td>\n",
       "      <td>4</td>\n",
       "      <td>4</td>\n",
       "    </tr>\n",
       "    <tr>\n",
       "      <th>4</th>\n",
       "      <td>5</td>\n",
       "      <td>Dead</td>\n",
       "      <td>10.0</td>\n",
       "      <td>76</td>\n",
       "      <td>9</td>\n",
       "      <td>0</td>\n",
       "      <td>UNK</td>\n",
       "      <td>NaN</td>\n",
       "      <td>NaN</td>\n",
       "      <td>0</td>\n",
       "      <td>IIIA</td>\n",
       "      <td>Left Hilar</td>\n",
       "      <td>Large-cell carcinoma</td>\n",
       "      <td>NaN</td>\n",
       "      <td>3</td>\n",
       "      <td>3</td>\n",
       "    </tr>\n",
       "  </tbody>\n",
       "</table>\n",
       "</div>"
      ],
      "text/plain": [
       "   ID Outcome  Survival.Months  Age  Grade  Num.Primaries    T    N    M  \\\n",
       "0   1   Alive              9.0   67      4              0  UNK  2.0  NaN   \n",
       "1   2    Dead             19.0   73      2              0  UNK  2.0  0.0   \n",
       "2   3    Dead             13.0   72      3              0    2  2.0  0.0   \n",
       "3   4    Dead             15.0   69      9              1   1a  0.0  1.0   \n",
       "4   5    Dead             10.0   76      9              0  UNK  NaN  NaN   \n",
       "\n",
       "   Radiation Stage      Primary.Site                Histology  Tumor.Size  \\\n",
       "0          0    IV   Left Lower Lobe  Squamous cell carcinoma         1.4   \n",
       "1          5    IV  Right Upper Lobe           Adenocarcinoma         NaN   \n",
       "2          0  IIIA  Right Upper Lobe           Adenocarcinoma         1.5   \n",
       "3          0    IA  Right Upper Lobe           Adenocarcinoma         NaN   \n",
       "4          0  IIIA        Left Hilar     Large-cell carcinoma         NaN   \n",
       "\n",
       "   Num.Mutated.Genes  Num.Mutations  \n",
       "0                  8              8  \n",
       "1                  2              2  \n",
       "2                  1              1  \n",
       "3                  4              4  \n",
       "4                  3              3  "
      ]
     },
     "execution_count": 3897,
     "metadata": {},
     "output_type": "execute_result"
    }
   ],
   "source": [
    "df_data_clinical_raw.head()"
   ]
  },
  {
   "cell_type": "code",
   "execution_count": 3898,
   "metadata": {},
   "outputs": [
    {
     "name": "stdout",
     "output_type": "stream",
     "text": [
      "<class 'pandas.core.frame.DataFrame'>\n",
      "RangeIndex: 190 entries, 0 to 189\n",
      "Data columns (total 16 columns):\n",
      " #   Column             Non-Null Count  Dtype  \n",
      "---  ------             --------------  -----  \n",
      " 0   ID                 190 non-null    int64  \n",
      " 1   Outcome            190 non-null    object \n",
      " 2   Survival.Months    190 non-null    float64\n",
      " 3   Age                190 non-null    int64  \n",
      " 4   Grade              190 non-null    int64  \n",
      " 5   Num.Primaries      190 non-null    int64  \n",
      " 6   T                  190 non-null    object \n",
      " 7   N                  125 non-null    float64\n",
      " 8   M                  94 non-null     float64\n",
      " 9   Radiation          190 non-null    int64  \n",
      " 10  Stage              190 non-null    object \n",
      " 11  Primary.Site       190 non-null    object \n",
      " 12  Histology          190 non-null    object \n",
      " 13  Tumor.Size         98 non-null     float64\n",
      " 14  Num.Mutated.Genes  190 non-null    int64  \n",
      " 15  Num.Mutations      190 non-null    int64  \n",
      "dtypes: float64(4), int64(7), object(5)\n",
      "memory usage: 23.9+ KB\n"
     ]
    }
   ],
   "source": [
    "df_data_clinical_raw.info()"
   ]
  },
  {
   "cell_type": "code",
   "execution_count": 3899,
   "metadata": {},
   "outputs": [
    {
     "data": {
      "text/html": [
       "<div>\n",
       "<style scoped>\n",
       "    .dataframe tbody tr th:only-of-type {\n",
       "        vertical-align: middle;\n",
       "    }\n",
       "\n",
       "    .dataframe tbody tr th {\n",
       "        vertical-align: top;\n",
       "    }\n",
       "\n",
       "    .dataframe thead th {\n",
       "        text-align: right;\n",
       "    }\n",
       "</style>\n",
       "<table border=\"1\" class=\"dataframe\">\n",
       "  <thead>\n",
       "    <tr style=\"text-align: right;\">\n",
       "      <th></th>\n",
       "      <th>ID</th>\n",
       "      <th>Survival.Months</th>\n",
       "      <th>Age</th>\n",
       "      <th>Grade</th>\n",
       "      <th>Num.Primaries</th>\n",
       "      <th>N</th>\n",
       "      <th>M</th>\n",
       "      <th>Radiation</th>\n",
       "      <th>Tumor.Size</th>\n",
       "      <th>Num.Mutated.Genes</th>\n",
       "      <th>Num.Mutations</th>\n",
       "    </tr>\n",
       "  </thead>\n",
       "  <tbody>\n",
       "    <tr>\n",
       "      <th>count</th>\n",
       "      <td>190.000000</td>\n",
       "      <td>190.000000</td>\n",
       "      <td>190.000000</td>\n",
       "      <td>190.000000</td>\n",
       "      <td>190.000000</td>\n",
       "      <td>125.000000</td>\n",
       "      <td>94.000000</td>\n",
       "      <td>190.000000</td>\n",
       "      <td>98.000000</td>\n",
       "      <td>190.000000</td>\n",
       "      <td>190.000000</td>\n",
       "    </tr>\n",
       "    <tr>\n",
       "      <th>mean</th>\n",
       "      <td>95.500000</td>\n",
       "      <td>22.186842</td>\n",
       "      <td>70.173684</td>\n",
       "      <td>6.105263</td>\n",
       "      <td>0.226316</td>\n",
       "      <td>1.144000</td>\n",
       "      <td>0.085106</td>\n",
       "      <td>1.657895</td>\n",
       "      <td>4.494898</td>\n",
       "      <td>2.684211</td>\n",
       "      <td>3.084211</td>\n",
       "    </tr>\n",
       "    <tr>\n",
       "      <th>std</th>\n",
       "      <td>54.992424</td>\n",
       "      <td>12.420140</td>\n",
       "      <td>6.146909</td>\n",
       "      <td>2.995495</td>\n",
       "      <td>0.419551</td>\n",
       "      <td>1.029438</td>\n",
       "      <td>0.280536</td>\n",
       "      <td>2.360122</td>\n",
       "      <td>3.050988</td>\n",
       "      <td>1.460327</td>\n",
       "      <td>1.697575</td>\n",
       "    </tr>\n",
       "    <tr>\n",
       "      <th>min</th>\n",
       "      <td>1.000000</td>\n",
       "      <td>9.000000</td>\n",
       "      <td>56.000000</td>\n",
       "      <td>2.000000</td>\n",
       "      <td>0.000000</td>\n",
       "      <td>0.000000</td>\n",
       "      <td>0.000000</td>\n",
       "      <td>0.000000</td>\n",
       "      <td>1.000000</td>\n",
       "      <td>0.000000</td>\n",
       "      <td>0.000000</td>\n",
       "    </tr>\n",
       "    <tr>\n",
       "      <th>25%</th>\n",
       "      <td>48.250000</td>\n",
       "      <td>11.000000</td>\n",
       "      <td>67.000000</td>\n",
       "      <td>3.000000</td>\n",
       "      <td>0.000000</td>\n",
       "      <td>0.000000</td>\n",
       "      <td>0.000000</td>\n",
       "      <td>0.000000</td>\n",
       "      <td>2.000000</td>\n",
       "      <td>2.000000</td>\n",
       "      <td>2.000000</td>\n",
       "    </tr>\n",
       "    <tr>\n",
       "      <th>50%</th>\n",
       "      <td>95.500000</td>\n",
       "      <td>16.000000</td>\n",
       "      <td>71.000000</td>\n",
       "      <td>9.000000</td>\n",
       "      <td>0.000000</td>\n",
       "      <td>2.000000</td>\n",
       "      <td>0.000000</td>\n",
       "      <td>0.000000</td>\n",
       "      <td>3.600000</td>\n",
       "      <td>3.000000</td>\n",
       "      <td>3.000000</td>\n",
       "    </tr>\n",
       "    <tr>\n",
       "      <th>75%</th>\n",
       "      <td>142.750000</td>\n",
       "      <td>34.000000</td>\n",
       "      <td>74.000000</td>\n",
       "      <td>9.000000</td>\n",
       "      <td>0.000000</td>\n",
       "      <td>2.000000</td>\n",
       "      <td>0.000000</td>\n",
       "      <td>5.000000</td>\n",
       "      <td>8.000000</td>\n",
       "      <td>3.000000</td>\n",
       "      <td>4.000000</td>\n",
       "    </tr>\n",
       "    <tr>\n",
       "      <th>max</th>\n",
       "      <td>190.000000</td>\n",
       "      <td>71.000000</td>\n",
       "      <td>84.000000</td>\n",
       "      <td>9.000000</td>\n",
       "      <td>1.000000</td>\n",
       "      <td>3.000000</td>\n",
       "      <td>1.000000</td>\n",
       "      <td>5.000000</td>\n",
       "      <td>10.000000</td>\n",
       "      <td>8.000000</td>\n",
       "      <td>8.000000</td>\n",
       "    </tr>\n",
       "  </tbody>\n",
       "</table>\n",
       "</div>"
      ],
      "text/plain": [
       "               ID  Survival.Months         Age       Grade  Num.Primaries  \\\n",
       "count  190.000000       190.000000  190.000000  190.000000     190.000000   \n",
       "mean    95.500000        22.186842   70.173684    6.105263       0.226316   \n",
       "std     54.992424        12.420140    6.146909    2.995495       0.419551   \n",
       "min      1.000000         9.000000   56.000000    2.000000       0.000000   \n",
       "25%     48.250000        11.000000   67.000000    3.000000       0.000000   \n",
       "50%     95.500000        16.000000   71.000000    9.000000       0.000000   \n",
       "75%    142.750000        34.000000   74.000000    9.000000       0.000000   \n",
       "max    190.000000        71.000000   84.000000    9.000000       1.000000   \n",
       "\n",
       "                N          M   Radiation  Tumor.Size  Num.Mutated.Genes  \\\n",
       "count  125.000000  94.000000  190.000000   98.000000         190.000000   \n",
       "mean     1.144000   0.085106    1.657895    4.494898           2.684211   \n",
       "std      1.029438   0.280536    2.360122    3.050988           1.460327   \n",
       "min      0.000000   0.000000    0.000000    1.000000           0.000000   \n",
       "25%      0.000000   0.000000    0.000000    2.000000           2.000000   \n",
       "50%      2.000000   0.000000    0.000000    3.600000           3.000000   \n",
       "75%      2.000000   0.000000    5.000000    8.000000           3.000000   \n",
       "max      3.000000   1.000000    5.000000   10.000000           8.000000   \n",
       "\n",
       "       Num.Mutations  \n",
       "count     190.000000  \n",
       "mean        3.084211  \n",
       "std         1.697575  \n",
       "min         0.000000  \n",
       "25%         2.000000  \n",
       "50%         3.000000  \n",
       "75%         4.000000  \n",
       "max         8.000000  "
      ]
     },
     "execution_count": 3899,
     "metadata": {},
     "output_type": "execute_result"
    }
   ],
   "source": [
    "df_data_clinical_raw.describe()"
   ]
  },
  {
   "cell_type": "markdown",
   "metadata": {},
   "source": [
    "### Genomic Data"
   ]
  },
  {
   "cell_type": "code",
   "execution_count": 3900,
   "metadata": {},
   "outputs": [
    {
     "data": {
      "text/html": [
       "<div>\n",
       "<style scoped>\n",
       "    .dataframe tbody tr th:only-of-type {\n",
       "        vertical-align: middle;\n",
       "    }\n",
       "\n",
       "    .dataframe tbody tr th {\n",
       "        vertical-align: top;\n",
       "    }\n",
       "\n",
       "    .dataframe thead th {\n",
       "        text-align: right;\n",
       "    }\n",
       "</style>\n",
       "<table border=\"1\" class=\"dataframe\">\n",
       "  <thead>\n",
       "    <tr style=\"text-align: right;\">\n",
       "      <th></th>\n",
       "      <th>ID</th>\n",
       "      <th>Gene</th>\n",
       "    </tr>\n",
       "  </thead>\n",
       "  <tbody>\n",
       "    <tr>\n",
       "      <th>0</th>\n",
       "      <td>1</td>\n",
       "      <td>AKT1</td>\n",
       "    </tr>\n",
       "    <tr>\n",
       "      <th>1</th>\n",
       "      <td>158</td>\n",
       "      <td>AKT1</td>\n",
       "    </tr>\n",
       "    <tr>\n",
       "      <th>2</th>\n",
       "      <td>88</td>\n",
       "      <td>ALK_Col1</td>\n",
       "    </tr>\n",
       "    <tr>\n",
       "      <th>3</th>\n",
       "      <td>132</td>\n",
       "      <td>ALK_Col1</td>\n",
       "    </tr>\n",
       "    <tr>\n",
       "      <th>4</th>\n",
       "      <td>18</td>\n",
       "      <td>ALK_Col2</td>\n",
       "    </tr>\n",
       "  </tbody>\n",
       "</table>\n",
       "</div>"
      ],
      "text/plain": [
       "    ID      Gene\n",
       "0    1      AKT1\n",
       "1  158      AKT1\n",
       "2   88  ALK_Col1\n",
       "3  132  ALK_Col1\n",
       "4   18  ALK_Col2"
      ]
     },
     "execution_count": 3900,
     "metadata": {},
     "output_type": "execute_result"
    }
   ],
   "source": [
    "df_data_genomic_raw.head()"
   ]
  },
  {
   "cell_type": "code",
   "execution_count": 3901,
   "metadata": {},
   "outputs": [
    {
     "name": "stdout",
     "output_type": "stream",
     "text": [
      "<class 'pandas.core.frame.DataFrame'>\n",
      "RangeIndex: 510 entries, 0 to 509\n",
      "Data columns (total 2 columns):\n",
      " #   Column  Non-Null Count  Dtype \n",
      "---  ------  --------------  ----- \n",
      " 0   ID      510 non-null    int64 \n",
      " 1   Gene    510 non-null    object\n",
      "dtypes: int64(1), object(1)\n",
      "memory usage: 8.1+ KB\n"
     ]
    }
   ],
   "source": [
    "df_data_genomic_raw.info()"
   ]
  },
  {
   "cell_type": "code",
   "execution_count": 3902,
   "metadata": {},
   "outputs": [
    {
     "data": {
      "text/html": [
       "<div>\n",
       "<style scoped>\n",
       "    .dataframe tbody tr th:only-of-type {\n",
       "        vertical-align: middle;\n",
       "    }\n",
       "\n",
       "    .dataframe tbody tr th {\n",
       "        vertical-align: top;\n",
       "    }\n",
       "\n",
       "    .dataframe thead th {\n",
       "        text-align: right;\n",
       "    }\n",
       "</style>\n",
       "<table border=\"1\" class=\"dataframe\">\n",
       "  <thead>\n",
       "    <tr style=\"text-align: right;\">\n",
       "      <th></th>\n",
       "      <th>ID</th>\n",
       "    </tr>\n",
       "  </thead>\n",
       "  <tbody>\n",
       "    <tr>\n",
       "      <th>count</th>\n",
       "      <td>510.000000</td>\n",
       "    </tr>\n",
       "    <tr>\n",
       "      <th>mean</th>\n",
       "      <td>93.962745</td>\n",
       "    </tr>\n",
       "    <tr>\n",
       "      <th>std</th>\n",
       "      <td>55.988602</td>\n",
       "    </tr>\n",
       "    <tr>\n",
       "      <th>min</th>\n",
       "      <td>1.000000</td>\n",
       "    </tr>\n",
       "    <tr>\n",
       "      <th>25%</th>\n",
       "      <td>47.000000</td>\n",
       "    </tr>\n",
       "    <tr>\n",
       "      <th>50%</th>\n",
       "      <td>94.000000</td>\n",
       "    </tr>\n",
       "    <tr>\n",
       "      <th>75%</th>\n",
       "      <td>144.000000</td>\n",
       "    </tr>\n",
       "    <tr>\n",
       "      <th>max</th>\n",
       "      <td>190.000000</td>\n",
       "    </tr>\n",
       "  </tbody>\n",
       "</table>\n",
       "</div>"
      ],
      "text/plain": [
       "               ID\n",
       "count  510.000000\n",
       "mean    93.962745\n",
       "std     55.988602\n",
       "min      1.000000\n",
       "25%     47.000000\n",
       "50%     94.000000\n",
       "75%    144.000000\n",
       "max    190.000000"
      ]
     },
     "execution_count": 3902,
     "metadata": {},
     "output_type": "execute_result"
    }
   ],
   "source": [
    "df_data_genomic_raw.describe()"
   ]
  },
  {
   "cell_type": "markdown",
   "metadata": {},
   "source": [
    "## Data Cleansing"
   ]
  },
  {
   "cell_type": "markdown",
   "metadata": {},
   "source": [
    "### Check for inconsistent data entry"
   ]
  },
  {
   "cell_type": "markdown",
   "metadata": {},
   "source": [
    "The dataset may include spelling errors or other inconsistencies in data entry that may impact model accuracy. Using `groupby()` and `size()` can help identify such inconsistencies."
   ]
  },
  {
   "cell_type": "markdown",
   "metadata": {},
   "source": [
    "Columns **Outcome**, **T**, **Stage**, **Primary.Site**, and **Histology** contain data in string form, and thus are the most prone to inconsistent data entry and spelling errors. Let's check each of these columns."
   ]
  },
  {
   "cell_type": "markdown",
   "metadata": {},
   "source": [
    "No inconsistencies found in the **Outcome** column:"
   ]
  },
  {
   "cell_type": "code",
   "execution_count": 3903,
   "metadata": {},
   "outputs": [
    {
     "name": "stdout",
     "output_type": "stream",
     "text": [
      "Outcome\n",
      "Alive     40\n",
      "Dead     150\n",
      "dtype: int64\n"
     ]
    }
   ],
   "source": [
    "print(df_data_clinical_raw.groupby('Outcome').size())"
   ]
  },
  {
   "cell_type": "markdown",
   "metadata": {},
   "source": [
    "No inconsistencies found in the **T** column:"
   ]
  },
  {
   "cell_type": "code",
   "execution_count": 3904,
   "metadata": {},
   "outputs": [
    {
     "data": {
      "text/plain": [
       "T\n",
       "1       1\n",
       "1a     26\n",
       "1b      2\n",
       "2      12\n",
       "2a     16\n",
       "2b     10\n",
       "3      38\n",
       "4      23\n",
       "UNK    62\n",
       "dtype: int64"
      ]
     },
     "execution_count": 3904,
     "metadata": {},
     "output_type": "execute_result"
    }
   ],
   "source": [
    "df_data_clinical_raw.groupby('T').size()"
   ]
  },
  {
   "cell_type": "markdown",
   "metadata": {},
   "source": [
    "No inconsistencies found in the **Histology** column:"
   ]
  },
  {
   "cell_type": "code",
   "execution_count": 3905,
   "metadata": {},
   "outputs": [
    {
     "data": {
      "text/plain": [
       "Histology\n",
       "Adenocarcinoma             86\n",
       "Large-cell carcinoma       27\n",
       "Squamous cell carcinoma    77\n",
       "dtype: int64"
      ]
     },
     "execution_count": 3905,
     "metadata": {},
     "output_type": "execute_result"
    }
   ],
   "source": [
    "df_data_clinical_raw.groupby('Histology').size()"
   ]
  },
  {
   "cell_type": "markdown",
   "metadata": {},
   "source": [
    "In the **Stage** column, one row contains a misspelling \"1B\" which should be corrected to \"IB\":"
   ]
  },
  {
   "cell_type": "code",
   "execution_count": 3906,
   "metadata": {},
   "outputs": [
    {
     "data": {
      "text/plain": [
       "Stage\n",
       "1B       1\n",
       "IA      32\n",
       "IB       1\n",
       "IIA      8\n",
       "IIB     11\n",
       "IIIA    43\n",
       "IIIB    24\n",
       "IV      45\n",
       "IVB     25\n",
       "dtype: int64"
      ]
     },
     "execution_count": 3906,
     "metadata": {},
     "output_type": "execute_result"
    }
   ],
   "source": [
    "df_data_clinical_raw.groupby('Stage').size()"
   ]
  },
  {
   "cell_type": "code",
   "execution_count": 3907,
   "metadata": {},
   "outputs": [],
   "source": [
    "df_data_clinical_raw['Stage'] = df_data_clinical_raw['Stage'].replace(['1B'], 'IB')"
   ]
  },
  {
   "cell_type": "markdown",
   "metadata": {},
   "source": [
    "In the **Primary.Site** column, two rows contain a misspelling \"Righ Upper Lobe\" which should be corrected to \"Right Upper Lobe\":"
   ]
  },
  {
   "cell_type": "code",
   "execution_count": 3908,
   "metadata": {},
   "outputs": [
    {
     "data": {
      "text/plain": [
       "Primary.Site\n",
       "Both Lung             5\n",
       "Left Hilar           31\n",
       "Left Lower Lobe      17\n",
       "Left Upper Lobe      21\n",
       "Righ Upper Lobe       2\n",
       "Right Hilar          33\n",
       "Right Lower Lobe     25\n",
       "Right Middle Lobe     3\n",
       "Right Upper Lobe     53\n",
       "dtype: int64"
      ]
     },
     "execution_count": 3908,
     "metadata": {},
     "output_type": "execute_result"
    }
   ],
   "source": [
    "df_data_clinical_raw.groupby('Primary.Site').size()"
   ]
  },
  {
   "cell_type": "code",
   "execution_count": 3909,
   "metadata": {},
   "outputs": [],
   "source": [
    "df_data_clinical_raw['Primary.Site'] = df_data_clinical_raw['Primary.Site'].replace(['Righ Upper Lobe'], 'Right Upper Lobe')"
   ]
  },
  {
   "cell_type": "markdown",
   "metadata": {},
   "source": [
    "There are also some discrepencies in the **Grade** column, as the tumor grade should be a value of 1-4 or unspecified, yet some rows contain a value of 9. The fact that there are 96 rows with **Grade** values of 9 suggests significant data entry inconsistencies, and thus it is best to drop the entire column."
   ]
  },
  {
   "cell_type": "code",
   "execution_count": 3910,
   "metadata": {},
   "outputs": [
    {
     "data": {
      "text/plain": [
       "Grade\n",
       "2    29\n",
       "3    22\n",
       "4    43\n",
       "9    96\n",
       "dtype: int64"
      ]
     },
     "execution_count": 3910,
     "metadata": {},
     "output_type": "execute_result"
    }
   ],
   "source": [
    "df_data_clinical_raw.groupby('Grade').size()"
   ]
  },
  {
   "cell_type": "code",
   "execution_count": 3911,
   "metadata": {},
   "outputs": [],
   "source": [
    "df_data_clinical_raw = df_data_clinical_raw.drop(columns=['Grade'])"
   ]
  },
  {
   "cell_type": "markdown",
   "metadata": {},
   "source": [
    "There are no unexpected values in the **Radiation** column:"
   ]
  },
  {
   "cell_type": "code",
   "execution_count": 3912,
   "metadata": {},
   "outputs": [
    {
     "data": {
      "text/plain": [
       "Radiation\n",
       "0    127\n",
       "5     63\n",
       "dtype: int64"
      ]
     },
     "execution_count": 3912,
     "metadata": {},
     "output_type": "execute_result"
    }
   ],
   "source": [
    "df_data_clinical_raw.groupby('Radiation').size()"
   ]
  },
  {
   "cell_type": "markdown",
   "metadata": {},
   "source": [
    "### Check for missing data"
   ]
  },
  {
   "cell_type": "code",
   "execution_count": 3913,
   "metadata": {},
   "outputs": [
    {
     "data": {
      "text/plain": [
       "ID                   False\n",
       "Outcome              False\n",
       "Survival.Months      False\n",
       "Age                  False\n",
       "Num.Primaries        False\n",
       "T                    False\n",
       "N                     True\n",
       "M                     True\n",
       "Radiation            False\n",
       "Stage                False\n",
       "Primary.Site         False\n",
       "Histology            False\n",
       "Tumor.Size            True\n",
       "Num.Mutated.Genes    False\n",
       "Num.Mutations        False\n",
       "dtype: bool"
      ]
     },
     "execution_count": 3913,
     "metadata": {},
     "output_type": "execute_result"
    }
   ],
   "source": [
    "df_data_clinical_raw.isnull().any()"
   ]
  },
  {
   "cell_type": "code",
   "execution_count": 3914,
   "metadata": {},
   "outputs": [
    {
     "name": "stdout",
     "output_type": "stream",
     "text": [
      "\"N\" column value counts: \n",
      " NaN    65\n",
      "2.0    58\n",
      "0.0    52\n",
      "1.0     9\n",
      "3.0     6\n",
      "Name: N, dtype: int64\n"
     ]
    }
   ],
   "source": [
    "print('\"N\" column value counts: \\n', df_data_clinical_raw['N'].value_counts(dropna=False))"
   ]
  },
  {
   "cell_type": "code",
   "execution_count": 3915,
   "metadata": {},
   "outputs": [
    {
     "name": "stdout",
     "output_type": "stream",
     "text": [
      "\"M\" column value counts: \n",
      " NaN    96\n",
      "0.0    86\n",
      "1.0     8\n",
      "Name: M, dtype: int64\n"
     ]
    }
   ],
   "source": [
    "print('\"M\" column value counts: \\n', df_data_clinical_raw['M'].value_counts(dropna=False))"
   ]
  },
  {
   "cell_type": "code",
   "execution_count": 3916,
   "metadata": {},
   "outputs": [
    {
     "name": "stdout",
     "output_type": "stream",
     "text": [
      "\"Tumor.Size\" column value counts: \n",
      " NaN     92\n",
      "2.0     20\n",
      "1.5     13\n",
      "9.0     10\n",
      "3.6      9\n",
      "10.0     8\n",
      "4.0      7\n",
      "5.5      6\n",
      "8.5      6\n",
      "3.5      2\n",
      "5.4      2\n",
      "5.3      2\n",
      "2.5      2\n",
      "1.4      2\n",
      "8.0      2\n",
      "1.8      2\n",
      "1.9      2\n",
      "4.4      1\n",
      "1.6      1\n",
      "1.0      1\n",
      "Name: Tumor.Size, dtype: int64\n"
     ]
    }
   ],
   "source": [
    "print('\"Tumor.Size\" column value counts: \\n', df_data_clinical_raw['Tumor.Size'].value_counts(dropna=False))"
   ]
  },
  {
   "cell_type": "markdown",
   "metadata": {},
   "source": [
    "Many rows are missing data for the columns **N**, **M**, and **Tumor.Size**. For example, more than half of the rows are missing data for **Tumor.Size**. However, tumor size is likely correlated with survival rate, and thus dropping the entire column is illogical. Similarly, the metastatic data described in columns **N** and **M** may be significant prognostic factors. Instead of dropping these columns or rows with null values, it makes more sense to fill the null values using imputation."
   ]
  },
  {
   "cell_type": "markdown",
   "metadata": {},
   "source": [
    "#### Imputation with SimpleImputer"
   ]
  },
  {
   "cell_type": "code",
   "execution_count": 3917,
   "metadata": {},
   "outputs": [
    {
     "data": {
      "text/html": [
       "<div>\n",
       "<style scoped>\n",
       "    .dataframe tbody tr th:only-of-type {\n",
       "        vertical-align: middle;\n",
       "    }\n",
       "\n",
       "    .dataframe tbody tr th {\n",
       "        vertical-align: top;\n",
       "    }\n",
       "\n",
       "    .dataframe thead th {\n",
       "        text-align: right;\n",
       "    }\n",
       "</style>\n",
       "<table border=\"1\" class=\"dataframe\">\n",
       "  <thead>\n",
       "    <tr style=\"text-align: right;\">\n",
       "      <th></th>\n",
       "      <th>ID</th>\n",
       "      <th>Outcome</th>\n",
       "      <th>Survival.Months</th>\n",
       "      <th>Age</th>\n",
       "      <th>Num.Primaries</th>\n",
       "      <th>T</th>\n",
       "      <th>N</th>\n",
       "      <th>M</th>\n",
       "      <th>Radiation</th>\n",
       "      <th>Stage</th>\n",
       "      <th>Primary.Site</th>\n",
       "      <th>Histology</th>\n",
       "      <th>Tumor.Size</th>\n",
       "      <th>Num.Mutated.Genes</th>\n",
       "      <th>Num.Mutations</th>\n",
       "    </tr>\n",
       "  </thead>\n",
       "  <tbody>\n",
       "    <tr>\n",
       "      <th>0</th>\n",
       "      <td>1</td>\n",
       "      <td>Alive</td>\n",
       "      <td>9.0</td>\n",
       "      <td>67</td>\n",
       "      <td>0</td>\n",
       "      <td>UNK</td>\n",
       "      <td>2.000</td>\n",
       "      <td>0.085106</td>\n",
       "      <td>0</td>\n",
       "      <td>IV</td>\n",
       "      <td>Left Lower Lobe</td>\n",
       "      <td>Squamous cell carcinoma</td>\n",
       "      <td>1.400000</td>\n",
       "      <td>8</td>\n",
       "      <td>8</td>\n",
       "    </tr>\n",
       "    <tr>\n",
       "      <th>1</th>\n",
       "      <td>2</td>\n",
       "      <td>Dead</td>\n",
       "      <td>19.0</td>\n",
       "      <td>73</td>\n",
       "      <td>0</td>\n",
       "      <td>UNK</td>\n",
       "      <td>2.000</td>\n",
       "      <td>0.000000</td>\n",
       "      <td>5</td>\n",
       "      <td>IV</td>\n",
       "      <td>Right Upper Lobe</td>\n",
       "      <td>Adenocarcinoma</td>\n",
       "      <td>4.494898</td>\n",
       "      <td>2</td>\n",
       "      <td>2</td>\n",
       "    </tr>\n",
       "    <tr>\n",
       "      <th>2</th>\n",
       "      <td>3</td>\n",
       "      <td>Dead</td>\n",
       "      <td>13.0</td>\n",
       "      <td>72</td>\n",
       "      <td>0</td>\n",
       "      <td>2</td>\n",
       "      <td>2.000</td>\n",
       "      <td>0.000000</td>\n",
       "      <td>0</td>\n",
       "      <td>IIIA</td>\n",
       "      <td>Right Upper Lobe</td>\n",
       "      <td>Adenocarcinoma</td>\n",
       "      <td>1.500000</td>\n",
       "      <td>1</td>\n",
       "      <td>1</td>\n",
       "    </tr>\n",
       "    <tr>\n",
       "      <th>3</th>\n",
       "      <td>4</td>\n",
       "      <td>Dead</td>\n",
       "      <td>15.0</td>\n",
       "      <td>69</td>\n",
       "      <td>1</td>\n",
       "      <td>1a</td>\n",
       "      <td>0.000</td>\n",
       "      <td>1.000000</td>\n",
       "      <td>0</td>\n",
       "      <td>IA</td>\n",
       "      <td>Right Upper Lobe</td>\n",
       "      <td>Adenocarcinoma</td>\n",
       "      <td>4.494898</td>\n",
       "      <td>4</td>\n",
       "      <td>4</td>\n",
       "    </tr>\n",
       "    <tr>\n",
       "      <th>4</th>\n",
       "      <td>5</td>\n",
       "      <td>Dead</td>\n",
       "      <td>10.0</td>\n",
       "      <td>76</td>\n",
       "      <td>0</td>\n",
       "      <td>UNK</td>\n",
       "      <td>1.144</td>\n",
       "      <td>0.085106</td>\n",
       "      <td>0</td>\n",
       "      <td>IIIA</td>\n",
       "      <td>Left Hilar</td>\n",
       "      <td>Large-cell carcinoma</td>\n",
       "      <td>4.494898</td>\n",
       "      <td>3</td>\n",
       "      <td>3</td>\n",
       "    </tr>\n",
       "  </tbody>\n",
       "</table>\n",
       "</div>"
      ],
      "text/plain": [
       "   ID Outcome  Survival.Months  Age  Num.Primaries    T      N         M  \\\n",
       "0   1   Alive              9.0   67              0  UNK  2.000  0.085106   \n",
       "1   2    Dead             19.0   73              0  UNK  2.000  0.000000   \n",
       "2   3    Dead             13.0   72              0    2  2.000  0.000000   \n",
       "3   4    Dead             15.0   69              1   1a  0.000  1.000000   \n",
       "4   5    Dead             10.0   76              0  UNK  1.144  0.085106   \n",
       "\n",
       "   Radiation Stage      Primary.Site                Histology  Tumor.Size  \\\n",
       "0          0    IV   Left Lower Lobe  Squamous cell carcinoma    1.400000   \n",
       "1          5    IV  Right Upper Lobe           Adenocarcinoma    4.494898   \n",
       "2          0  IIIA  Right Upper Lobe           Adenocarcinoma    1.500000   \n",
       "3          0    IA  Right Upper Lobe           Adenocarcinoma    4.494898   \n",
       "4          0  IIIA        Left Hilar     Large-cell carcinoma    4.494898   \n",
       "\n",
       "   Num.Mutated.Genes  Num.Mutations  \n",
       "0                  8              8  \n",
       "1                  2              2  \n",
       "2                  1              1  \n",
       "3                  4              4  \n",
       "4                  3              3  "
      ]
     },
     "execution_count": 3917,
     "metadata": {},
     "output_type": "execute_result"
    }
   ],
   "source": [
    "imputer = SimpleImputer(strategy='mean', missing_values=np.nan)\n",
    "imputer = imputer.fit(df_data_clinical_raw[['N', 'M', 'Tumor.Size']])\n",
    "data_clinical_raw[['N', 'M', 'Tumor.Size']] = imputer.transform(data_clinical_raw[['N', 'M', 'Tumor.Size']])\n",
    "df_data_clinical = data_clinical_raw   # cleaned dataset with imputed values\n",
    "df_data_clinical = df_data_clinical.drop(columns=['Grade'])\n",
    "df_data_clinical.head()"
   ]
  },
  {
   "cell_type": "markdown",
   "metadata": {},
   "source": [
    "## Exploratory Data Analysis"
   ]
  },
  {
   "cell_type": "code",
   "execution_count": 3918,
   "metadata": {},
   "outputs": [
    {
     "data": {
      "image/png": "[encoded data removed]",
      "text/plain": [
       "<Figure size 864x864 with 15 Axes>"
      ]
     },
     "metadata": {},
     "output_type": "display_data"
    },
    {
     "data": {
      "text/plain": [
       "<Figure size 432x288 with 0 Axes>"
      ]
     },
     "metadata": {},
     "output_type": "display_data"
    }
   ],
   "source": [
    "df_data_clinical_2.hist(layout= (5,3),figsize=(12,12))\n",
    "plt.show()\n",
    "plt.savefig('Figures/clinical_histograms.png')"
   ]
  },
  {
   "cell_type": "markdown",
   "metadata": {},
   "source": [
    "A heatmap can be used to assess associations between prognostic factors and their influence on Survival Months."
   ]
  },
  {
   "cell_type": "code",
   "execution_count": 3919,
   "metadata": {},
   "outputs": [],
   "source": [
    "df_data_clinical_2 = df_data_clinical.drop(['ID'], axis=1)"
   ]
  },
  {
   "cell_type": "code",
   "execution_count": 3920,
   "metadata": {},
   "outputs": [
    {
     "data": {
      "image/png": "[encoded data removed]",
      "text/plain": [
       "<Figure size 1152x936 with 2 Axes>"
      ]
     },
     "metadata": {},
     "output_type": "display_data"
    }
   ],
   "source": [
    "plt.figure(figsize=(16, 13))\n",
    "plt.title('Heatmap of Clinical Prognostic Factor Correlations', fontsize=22)\n",
    "sns.heatmap(df_data_clinical_2.corr(), annot=True)\n",
    "plt.savefig('Figures/clinical_heatmap.png')"
   ]
  },
  {
   "cell_type": "markdown",
   "metadata": {},
   "source": [
    "**Highly correlated features:**\n",
    "- Survival Months and Number of Primary Tumors\n",
    "- Radiation and Number of Primary Tumors\n",
    "- Number of Mutated Genes and Number of Mutations\n",
    "\n",
    "**Some other potential correlations:**\n",
    "- Age and number of distant metastases\n",
    "- Age and Number of Mutated Genes\n",
    "- Survival Months and Radiation\n",
    "- Grade and Tumor Size"
   ]
  },
  {
   "cell_type": "markdown",
   "metadata": {},
   "source": [
    "At first glance, these correlations suggest that number of primary tumors and radiation therapy may serve as some of the most influential prognostic factors in terms of clinical data. The TNM system is also of interest. Furthermore, it is logical to assume that tumor size, tumor stage, tumor location, and histological findings may have some bearing on prognosis. These factors, along with the genomic data, will be the focus of the exploratory data analysis."
   ]
  },
  {
   "cell_type": "markdown",
   "metadata": {},
   "source": [
    "### Number of Mutated Genes"
   ]
  },
  {
   "cell_type": "markdown",
   "metadata": {},
   "source": [
    "#### A note on number of mutations:\n",
    "Because the genomic data is derived from sequencing data, it is expected that some patients may have a greater number of mutations than mutated genes due to the presence of silent mutations. For this reason, only the **Num.Mutated.Genes** column along with the mutated genes themselves will be considered during analysis."
   ]
  },
  {
   "cell_type": "code",
   "execution_count": 3921,
   "metadata": {},
   "outputs": [],
   "source": [
    "df_data_clinical = df_data_clinical.drop(['Num.Mutations'], axis=1)"
   ]
  },
  {
   "cell_type": "markdown",
   "metadata": {},
   "source": [
    "Most cancers are caused not by a single mutation but by a combination of mutations in multiple genes. For this reason, it is worth investigating whether number of mutated genes has any bearing on cancer outcome."
   ]
  },
  {
   "cell_type": "code",
   "execution_count": 3922,
   "metadata": {},
   "outputs": [],
   "source": [
    "num_mutated_genes = sorted(list(df_data_clinical['Num.Mutated.Genes'].unique()))\n",
    "num_pats = []\n",
    "survival_rates = []\n",
    "\n",
    "for num in num_mutated_genes:\n",
    "    num_variants = df_data_clinical[df_data_clinical['Num.Mutated.Genes'] == num]\n",
    "    alive_patients = len(num_variants[num_variants['Outcome'] == 'Alive'])\n",
    "    total_patients = len(num_variants)\n",
    "    rate = alive_patients / total_patients\n",
    "\n",
    "    num_pats.append(total_patients)\n",
    "    survival_rates.append(rate)\n",
    "\n",
    "variant_dictionary = {\"Number of Mutated Genes\":num_mutated_genes, \n",
    "                    \"Number of Patients\":num_pats, \"Survival Rate\":survival_rates}\n",
    "df_num_mutated_genes = pd.DataFrame(variant_dictionary)"
   ]
  },
  {
   "cell_type": "code",
   "execution_count": 3923,
   "metadata": {},
   "outputs": [
    {
     "data": {
      "text/html": [
       "<div>\n",
       "<style scoped>\n",
       "    .dataframe tbody tr th:only-of-type {\n",
       "        vertical-align: middle;\n",
       "    }\n",
       "\n",
       "    .dataframe tbody tr th {\n",
       "        vertical-align: top;\n",
       "    }\n",
       "\n",
       "    .dataframe thead th {\n",
       "        text-align: right;\n",
       "    }\n",
       "</style>\n",
       "<table border=\"1\" class=\"dataframe\">\n",
       "  <thead>\n",
       "    <tr style=\"text-align: right;\">\n",
       "      <th></th>\n",
       "      <th>Number of Mutated Genes</th>\n",
       "      <th>Number of Patients</th>\n",
       "      <th>Survival Rate</th>\n",
       "    </tr>\n",
       "  </thead>\n",
       "  <tbody>\n",
       "    <tr>\n",
       "      <th>0</th>\n",
       "      <td>0</td>\n",
       "      <td>6</td>\n",
       "      <td>0.000000</td>\n",
       "    </tr>\n",
       "    <tr>\n",
       "      <th>7</th>\n",
       "      <td>7</td>\n",
       "      <td>1</td>\n",
       "      <td>0.000000</td>\n",
       "    </tr>\n",
       "    <tr>\n",
       "      <th>3</th>\n",
       "      <td>3</td>\n",
       "      <td>55</td>\n",
       "      <td>0.163636</td>\n",
       "    </tr>\n",
       "    <tr>\n",
       "      <th>2</th>\n",
       "      <td>2</td>\n",
       "      <td>53</td>\n",
       "      <td>0.207547</td>\n",
       "    </tr>\n",
       "    <tr>\n",
       "      <th>1</th>\n",
       "      <td>1</td>\n",
       "      <td>33</td>\n",
       "      <td>0.212121</td>\n",
       "    </tr>\n",
       "    <tr>\n",
       "      <th>6</th>\n",
       "      <td>6</td>\n",
       "      <td>4</td>\n",
       "      <td>0.250000</td>\n",
       "    </tr>\n",
       "    <tr>\n",
       "      <th>5</th>\n",
       "      <td>5</td>\n",
       "      <td>15</td>\n",
       "      <td>0.266667</td>\n",
       "    </tr>\n",
       "    <tr>\n",
       "      <th>4</th>\n",
       "      <td>4</td>\n",
       "      <td>21</td>\n",
       "      <td>0.285714</td>\n",
       "    </tr>\n",
       "    <tr>\n",
       "      <th>8</th>\n",
       "      <td>8</td>\n",
       "      <td>2</td>\n",
       "      <td>1.000000</td>\n",
       "    </tr>\n",
       "  </tbody>\n",
       "</table>\n",
       "</div>"
      ],
      "text/plain": [
       "   Number of Mutated Genes  Number of Patients  Survival Rate\n",
       "0                        0                   6       0.000000\n",
       "7                        7                   1       0.000000\n",
       "3                        3                  55       0.163636\n",
       "2                        2                  53       0.207547\n",
       "1                        1                  33       0.212121\n",
       "6                        6                   4       0.250000\n",
       "5                        5                  15       0.266667\n",
       "4                        4                  21       0.285714\n",
       "8                        8                   2       1.000000"
      ]
     },
     "execution_count": 3923,
     "metadata": {},
     "output_type": "execute_result"
    }
   ],
   "source": [
    "df_num_mutated_genes.sort_values(by='Survival Rate')"
   ]
  },
  {
   "cell_type": "code",
   "execution_count": 3924,
   "metadata": {},
   "outputs": [
    {
     "data": {
      "image/png": "[encoded data removed]",
      "text/plain": [
       "<Figure size 432x288 with 1 Axes>"
      ]
     },
     "metadata": {},
     "output_type": "display_data"
    }
   ],
   "source": [
    "plt.scatter(df_num_mutated_genes[\"Number of Mutated Genes\"], \n",
    "    df_num_mutated_genes[\"Survival Rate\"])\n",
    "plt.title('Number of Mutated Genes vs. Survival Rate', fontsize=14)\n",
    "plt.xlabel('Number of Mutated Genes')\n",
    "plt.ylabel('Survival Rate')\n",
    "plt.show()"
   ]
  },
  {
   "cell_type": "markdown",
   "metadata": {},
   "source": [
    "It doesn't appear as though any correlation exists between number of mutated genes and survival rate. As such, number of mutated genes will serve as a poor predictor of cancer outcome and thus this column can be dropped."
   ]
  },
  {
   "cell_type": "code",
   "execution_count": 3925,
   "metadata": {},
   "outputs": [],
   "source": [
    "df_data_clinical = df_data_clinical.drop(['Num.Mutated.Genes'], axis=1)"
   ]
  },
  {
   "cell_type": "markdown",
   "metadata": {},
   "source": [
    "### Age"
   ]
  },
  {
   "cell_type": "markdown",
   "metadata": {},
   "source": [
    "There doesn't appear to be any obvious correlation between age and prognosis. However, splitting the data into age groups may have yielded a more insightful analysis."
   ]
  },
  {
   "cell_type": "code",
   "execution_count": 3926,
   "metadata": {},
   "outputs": [
    {
     "data": {
      "image/png": "[encoded data removed]",
      "text/plain": [
       "<Figure size 432x288 with 1 Axes>"
      ]
     },
     "metadata": {},
     "output_type": "display_data"
    }
   ],
   "source": [
    "plt.scatter(df_data_clinical[\"Age\"], df_data_clinical[\"Survival.Months\"])\n",
    "plt.title('Age vs. Survival Time', fontsize=14)\n",
    "plt.xlabel('Age')\n",
    "plt.ylabel('Survival Time')\n",
    "plt.show()"
   ]
  },
  {
   "cell_type": "markdown",
   "metadata": {},
   "source": [
    "### Survival/Followup Time"
   ]
  },
  {
   "cell_type": "markdown",
   "metadata": {},
   "source": [
    "The goal of this investigation is to generate a predictive model of one-year survival after diagnosis with NSCLC (12-month followup time). Before this can be accomplished, it is important to establish an understanding of the distribution of patient outcomes over a wide range of followup times."
   ]
  },
  {
   "cell_type": "code",
   "execution_count": 3927,
   "metadata": {},
   "outputs": [
    {
     "data": {
      "image/png": "[encoded data removed]",
      "text/plain": [
       "<Figure size 360x360 with 1 Axes>"
      ]
     },
     "metadata": {},
     "output_type": "display_data"
    }
   ],
   "source": [
    "sns.set_style('whitegrid')\n",
    "p = sns.catplot(\n",
    "    x='Outcome', kind='count',\n",
    "    data=df_data_clinical,\n",
    ").set(title='Outcome Counts')"
   ]
  },
  {
   "cell_type": "code",
   "execution_count": 3928,
   "metadata": {},
   "outputs": [
    {
     "name": "stdout",
     "output_type": "stream",
     "text": [
      "Number of living patients: 40\n",
      "Number of deceased patients: 150\n"
     ]
    }
   ],
   "source": [
    "df_followup = df_data_clinical[['Outcome', 'Survival.Months']]\n",
    "\n",
    "num_alive = len(df_followup[df_followup['Outcome'] == 'Alive'])\n",
    "num_deceased = len(df_followup[df_followup['Outcome'] == 'Dead'])\n",
    "\n",
    "print('Number of living patients:', num_alive)\n",
    "print('Number of deceased patients:', num_deceased)"
   ]
  },
  {
   "cell_type": "markdown",
   "metadata": {},
   "source": [
    "Investigating the distribution of survival times:"
   ]
  },
  {
   "cell_type": "code",
   "execution_count": 3929,
   "metadata": {},
   "outputs": [
    {
     "data": {
      "text/plain": [
       "[Text(0.5, 0, 'Months Survived')]"
      ]
     },
     "execution_count": 3929,
     "metadata": {},
     "output_type": "execute_result"
    },
    {
     "data": {
      "image/png": "[encoded data removed]",
      "text/plain": [
       "<Figure size 432x288 with 1 Axes>"
      ]
     },
     "metadata": {},
     "output_type": "display_data"
    }
   ],
   "source": [
    "ax = df_data_clinical['Survival.Months'].plot(kind='hist', edgecolor='black')\n",
    "ax.set(title='Distribution of Survival Time')\n",
    "ax.set(xlabel='Months Survived')"
   ]
  },
  {
   "cell_type": "code",
   "execution_count": 3930,
   "metadata": {},
   "outputs": [
    {
     "data": {
      "text/plain": [
       "11.0    27\n",
       "10.0    23\n",
       "13.0    21\n",
       "36.0    18\n",
       "32.0    11\n",
       "38.0     9\n",
       "33.0     8\n",
       "16.0     8\n",
       "9.0      7\n",
       "22.0     7\n",
       "15.0     7\n",
       "35.0     6\n",
       "23.0     6\n",
       "19.0     6\n",
       "34.0     4\n",
       "29.0     3\n",
       "9.5      3\n",
       "42.0     3\n",
       "71.0     2\n",
       "18.0     2\n",
       "39.0     2\n",
       "40.0     1\n",
       "37.0     1\n",
       "41.0     1\n",
       "46.0     1\n",
       "50.0     1\n",
       "26.0     1\n",
       "24.0     1\n",
       "Name: Survival.Months, dtype: int64"
      ]
     },
     "execution_count": 3930,
     "metadata": {},
     "output_type": "execute_result"
    }
   ],
   "source": [
    "df_data_clinical['Survival.Months'].value_counts()"
   ]
  },
  {
   "cell_type": "markdown",
   "metadata": {},
   "source": [
    "After taking a closer look at patient followup times, it appears as though not many patients followed up at precisely 12 months, but rather within a 10-13 month range. Thus, it may be beneficial to predict one-year survival within a four month range, that is to say predict patient outcomes after between 10 and 14 months after diagnosis rather than at exactly 12 months."
   ]
  },
  {
   "cell_type": "markdown",
   "metadata": {},
   "source": [
    "### Effect of Radiation Treatment on Cancer Outcome"
   ]
  },
  {
   "cell_type": "markdown",
   "metadata": {},
   "source": [
    "The presence or lack of radiation therapy appears to be highly correlated with number of primary tumors, which is in turn highly correlated with survival months. However, further analysis is needed in order to determine if the relationship between radiation therapy and outcome is correlational or causational. It is important to note that patients who underwent radiation therapy likely suffered from more severe or advanced cancers and thus are already more likely to die of their disease. For this reason, radiation therapy alone cannot predict survival, but may be an important feature to include in the model."
   ]
  },
  {
   "cell_type": "code",
   "execution_count": 3931,
   "metadata": {},
   "outputs": [
    {
     "name": "stdout",
     "output_type": "stream",
     "text": [
      "Survival rate with radiation: 0.2698412698412698\n",
      "Survival rate without radiation: 0.18110236220472442\n"
     ]
    }
   ],
   "source": [
    "# patients who did and did not receive radiation therapy\n",
    "patients_w_radiation = df_data_clinical[df_data_clinical['Radiation'] == 5]\n",
    "patients_wo_radiation = df_data_clinical[df_data_clinical['Radiation'] == 0]\n",
    "\n",
    "# patients who survived with and without radiation therapy\n",
    "alive_w_radiation = patients_w_radiation[patients_w_radiation['Outcome'] == 'Alive']\n",
    "alive_wo_radiation = patients_wo_radiation[patients_wo_radiation['Outcome'] == 'Alive']\n",
    "\n",
    "# survival rate with and without radiation therapy\n",
    "rate_w_radiation = len(alive_w_radiation) / len(patients_w_radiation)\n",
    "rate_wo_radiation = len(alive_wo_radiation) / len(patients_wo_radiation)\n",
    "\n",
    "print('Survival rate with radiation:', rate_w_radiation)\n",
    "print('Survival rate without radiation:', rate_wo_radiation)"
   ]
  },
  {
   "cell_type": "markdown",
   "metadata": {},
   "source": [
    "Without consideration of the time elapsed after diagnosis before radiation therapy was administered, it appears as though radiation therapy is correlated with more positive outcomes, as the survival rate with radiation is slightly higher at 26.98% compared to the 18.11% survival rate without radiation therapy."
   ]
  },
  {
   "cell_type": "markdown",
   "metadata": {},
   "source": [
    "### TNM System"
   ]
  },
  {
   "cell_type": "markdown",
   "metadata": {},
   "source": [
    "According to the National Cancer Institute, **stage** refers to the extent of a cancer, including factors such as tumor size and whether or not it has spread.\n",
    "\n",
    "The most commonly used cancer staging system is the TNM Staging System, in which the overall stage of a cancer is determined by rankings assigned to the following descriptors:\n",
    "- **T:** The size and extent of the primary tumor.\n",
    "- **N:** The number of nearby lymph nodes to which the cancer has spread.\n",
    "- **M:** Whether or not the cancer has **metastasized**, or spread from the primary tumor to other parts of the body."
   ]
  },
  {
   "cell_type": "markdown",
   "metadata": {},
   "source": [
    "The **T** descriptor can be assigned one of four rankings: either T1, T2, T3, or T4, with 1 representing the smallest primary tumor size and 4 representing the largest tumor size. These rankings can be further divided via the assignment of letters such as T1a and T1b to provide addition decriptive detail. For the sake of converting to a numeric scale, the original ranking system can be simplified into solely numeric rankings of 1, 2, 3, or 4 during preprocessing. The \"UNK\" ranking may also be converted to \"NaN\" and imputed with the mean of the dataset as was done during the data cleansing step for the **M** and **N** columns."
   ]
  },
  {
   "cell_type": "code",
   "execution_count": 3932,
   "metadata": {},
   "outputs": [
    {
     "data": {
      "text/plain": [
       "UNK    62\n",
       "3      38\n",
       "1a     26\n",
       "4      23\n",
       "2a     16\n",
       "2      12\n",
       "2b     10\n",
       "1b      2\n",
       "1       1\n",
       "Name: T, dtype: int64"
      ]
     },
     "execution_count": 3932,
     "metadata": {},
     "output_type": "execute_result"
    }
   ],
   "source": [
    "df_data_clinical['T'].value_counts()"
   ]
  },
  {
   "cell_type": "markdown",
   "metadata": {},
   "source": [
    "The **N** descriptor can be assigned one of three rankings: either N0, N1, N2, or N3 in order to represent the size, location, or number of nearby lymph nodes affected by the cancer. 0 represents the smallest degree of spread to nearby lymph nodes while 3 represents the greatest degree of spread to nearby lymmph nodes. Each **N** value in the dataset should now be rounded to the nearest whole number to compensate for the mean values inserted during imputing."
   ]
  },
  {
   "cell_type": "code",
   "execution_count": 3933,
   "metadata": {},
   "outputs": [
    {
     "data": {
      "text/plain": [
       "1.144    65\n",
       "2.000    58\n",
       "0.000    52\n",
       "1.000     9\n",
       "3.000     6\n",
       "Name: N, dtype: int64"
      ]
     },
     "execution_count": 3933,
     "metadata": {},
     "output_type": "execute_result"
    }
   ],
   "source": [
    "df_data_clinical['N'].value_counts()"
   ]
  },
  {
   "cell_type": "code",
   "execution_count": 3934,
   "metadata": {},
   "outputs": [],
   "source": [
    "df_data_clinical['N'] = df_data_clinical['N'].round(decimals = 0)"
   ]
  },
  {
   "cell_type": "code",
   "execution_count": 3935,
   "metadata": {},
   "outputs": [
    {
     "data": {
      "text/plain": [
       "1.0    74\n",
       "2.0    58\n",
       "0.0    52\n",
       "3.0     6\n",
       "Name: N, dtype: int64"
      ]
     },
     "execution_count": 3935,
     "metadata": {},
     "output_type": "execute_result"
    }
   ],
   "source": [
    "df_data_clinical['N'].value_counts()"
   ]
  },
  {
   "cell_type": "markdown",
   "metadata": {},
   "source": [
    "The **M** descriptor can be assigned a value of either M0, meaning that the cancer has not metastasized, or M1, meaning that the cancer has metastasized. As in the **N** column, each **M** value should now be rounded to the nearest whole number to compensate for the insertion of mean values during the data cleansing stage. In this dataset, it appears as though most patients' cancers were not metastatic. That is to say, most of the data in this dataset is representative of primary tumors rather than cancer that has spread to other parts of the patients' bodies."
   ]
  },
  {
   "cell_type": "code",
   "execution_count": 3936,
   "metadata": {},
   "outputs": [
    {
     "data": {
      "text/plain": [
       "0.085106    96\n",
       "0.000000    86\n",
       "1.000000     8\n",
       "Name: M, dtype: int64"
      ]
     },
     "execution_count": 3936,
     "metadata": {},
     "output_type": "execute_result"
    }
   ],
   "source": [
    "df_data_clinical['M'].value_counts()"
   ]
  },
  {
   "cell_type": "code",
   "execution_count": 3937,
   "metadata": {},
   "outputs": [],
   "source": [
    "df_data_clinical['M'] = df_data_clinical['M'].round(decimals = 0)"
   ]
  },
  {
   "cell_type": "code",
   "execution_count": 3938,
   "metadata": {},
   "outputs": [
    {
     "data": {
      "text/plain": [
       "0.0    182\n",
       "1.0      8\n",
       "Name: M, dtype: int64"
      ]
     },
     "execution_count": 3938,
     "metadata": {},
     "output_type": "execute_result"
    }
   ],
   "source": [
    "df_data_clinical['M'].value_counts()"
   ]
  },
  {
   "cell_type": "markdown",
   "metadata": {},
   "source": [
    "While the sample size of patients whose cancers are metastatic and/or have spread to nearby lymph nodes to the highest degree are relatively low, it is likely that such cancers will result in negative outcomes due to their severity. Indeed, patients with cancers classified as N3 had a 33% survival rate while patients with metastatic cancers had only a 25% survival rate."
   ]
  },
  {
   "cell_type": "code",
   "execution_count": 3939,
   "metadata": {},
   "outputs": [
    {
     "name": "stdout",
     "output_type": "stream",
     "text": [
      "Survival rate of patients with N3 cancer: 0.3333333333333333\n",
      "Survival rate of patients with metastatic cancer: 0.25\n"
     ]
    }
   ],
   "source": [
    "# patients with cancers that have spread to the greatest degree\n",
    "patients_spread_to_lymph = df_data_clinical[df_data_clinical['N'] == 3.0]\n",
    "patients_metastatic = df_data_clinical[df_data_clinical['M'] == 1.0]\n",
    "\n",
    "# patients who survived such cancers\n",
    "alive_lymph = patients_spread_to_lymph[patients_spread_to_lymph['Outcome'] == 'Alive']\n",
    "alive_metastatic = patients_metastatic[patients_metastatic['Outcome'] == 'Alive']\n",
    "\n",
    "# survival rates \n",
    "rate_lymph = len(alive_lymph) / len(patients_spread_to_lymph)\n",
    "rate_metastatic = len(alive_metastatic) / len(patients_metastatic)\n",
    "\n",
    "print('Survival rate of patients with N3 cancer:', rate_lymph)\n",
    "print('Survival rate of patients with metastatic cancer:', rate_metastatic)"
   ]
  },
  {
   "cell_type": "markdown",
   "metadata": {},
   "source": [
    "### Tumor Primary Site"
   ]
  },
  {
   "cell_type": "code",
   "execution_count": 3940,
   "metadata": {},
   "outputs": [
    {
     "data": {
      "text/plain": [
       "Right Upper Lobe     55\n",
       "Right Hilar          33\n",
       "Left Hilar           31\n",
       "Right Lower Lobe     25\n",
       "Left Upper Lobe      21\n",
       "Left Lower Lobe      17\n",
       "Both Lung             5\n",
       "Right Middle Lobe     3\n",
       "Name: Primary.Site, dtype: int64"
      ]
     },
     "execution_count": 3940,
     "metadata": {},
     "output_type": "execute_result"
    }
   ],
   "source": [
    "df_data_clinical['Primary.Site'].value_counts()"
   ]
  },
  {
   "cell_type": "markdown",
   "metadata": {},
   "source": [
    "As in the case of patients with metastatic cancer, it is likely that patients with cancer present in both lungs will have poor prognosis. Indeed, out of the 5 patients with cancer present in both lungs, all died of their illness. Amongst patients with cancer present in only one lung, there is a 21.62% survival rate."
   ]
  },
  {
   "cell_type": "code",
   "execution_count": 3941,
   "metadata": {},
   "outputs": [
    {
     "name": "stdout",
     "output_type": "stream",
     "text": [
      "Survival rate of patients with cancer present in both lungs: 0.0\n",
      "Survival rate of patients with cancer present in only one lung: 0.21621621621621623\n"
     ]
    }
   ],
   "source": [
    "# patients with cancer in both lungs or in only one lung\n",
    "patients_both_lungs = df_data_clinical[df_data_clinical['Primary.Site'] == 'Both Lung']\n",
    "patients_one_lung = df_data_clinical[df_data_clinical['Primary.Site'] != 'Both Lung']\n",
    "\n",
    "# patients who survived their cancer\n",
    "alive_both_lungs = patients_both_lungs[patients_both_lungs['Outcome'] == 'Alive']\n",
    "alive_one_lung = patients_one_lung[patients_one_lung['Outcome'] == 'Alive']\n",
    "\n",
    "# survival rates\n",
    "rate_both_lungs = len(alive_both_lungs) / len(patients_both_lungs)\n",
    "rate_one_lung = len(alive_one_lung) / len(patients_one_lung)\n",
    "\n",
    "print('Survival rate of patients with cancer present in both lungs:', rate_both_lungs)\n",
    "print('Survival rate of patients with cancer present in only one lung:', rate_one_lung)"
   ]
  },
  {
   "cell_type": "markdown",
   "metadata": {},
   "source": [
    "### Histological Findings"
   ]
  },
  {
   "cell_type": "markdown",
   "metadata": {},
   "source": [
    "The histological features are categorical and may help predict cancer outcome."
   ]
  },
  {
   "cell_type": "code",
   "execution_count": 3942,
   "metadata": {},
   "outputs": [
    {
     "data": {
      "text/plain": [
       "Adenocarcinoma             86\n",
       "Squamous cell carcinoma    77\n",
       "Large-cell carcinoma       27\n",
       "Name: Histology, dtype: int64"
      ]
     },
     "execution_count": 3942,
     "metadata": {},
     "output_type": "execute_result"
    }
   ],
   "source": [
    "df_data_clinical['Histology'].value_counts()"
   ]
  },
  {
   "cell_type": "markdown",
   "metadata": {},
   "source": [
    "## Genomic Data Analysis"
   ]
  },
  {
   "cell_type": "code",
   "execution_count": 3943,
   "metadata": {},
   "outputs": [
    {
     "data": {
      "text/html": [
       "<div>\n",
       "<style scoped>\n",
       "    .dataframe tbody tr th:only-of-type {\n",
       "        vertical-align: middle;\n",
       "    }\n",
       "\n",
       "    .dataframe tbody tr th {\n",
       "        vertical-align: top;\n",
       "    }\n",
       "\n",
       "    .dataframe thead th {\n",
       "        text-align: right;\n",
       "    }\n",
       "</style>\n",
       "<table border=\"1\" class=\"dataframe\">\n",
       "  <thead>\n",
       "    <tr style=\"text-align: right;\">\n",
       "      <th></th>\n",
       "      <th>ID</th>\n",
       "      <th>Gene</th>\n",
       "    </tr>\n",
       "  </thead>\n",
       "  <tbody>\n",
       "    <tr>\n",
       "      <th>0</th>\n",
       "      <td>1</td>\n",
       "      <td>AKT1</td>\n",
       "    </tr>\n",
       "    <tr>\n",
       "      <th>1</th>\n",
       "      <td>158</td>\n",
       "      <td>AKT1</td>\n",
       "    </tr>\n",
       "    <tr>\n",
       "      <th>2</th>\n",
       "      <td>88</td>\n",
       "      <td>ALK_Col1</td>\n",
       "    </tr>\n",
       "    <tr>\n",
       "      <th>3</th>\n",
       "      <td>132</td>\n",
       "      <td>ALK_Col1</td>\n",
       "    </tr>\n",
       "    <tr>\n",
       "      <th>4</th>\n",
       "      <td>18</td>\n",
       "      <td>ALK_Col2</td>\n",
       "    </tr>\n",
       "  </tbody>\n",
       "</table>\n",
       "</div>"
      ],
      "text/plain": [
       "    ID      Gene\n",
       "0    1      AKT1\n",
       "1  158      AKT1\n",
       "2   88  ALK_Col1\n",
       "3  132  ALK_Col1\n",
       "4   18  ALK_Col2"
      ]
     },
     "execution_count": 3943,
     "metadata": {},
     "output_type": "execute_result"
    }
   ],
   "source": [
    "df_data_genomic_raw.head()"
   ]
  },
  {
   "cell_type": "code",
   "execution_count": 3944,
   "metadata": {},
   "outputs": [
    {
     "name": "stdout",
     "output_type": "stream",
     "text": [
      "<class 'pandas.core.frame.DataFrame'>\n",
      "RangeIndex: 510 entries, 0 to 509\n",
      "Data columns (total 2 columns):\n",
      " #   Column  Non-Null Count  Dtype \n",
      "---  ------  --------------  ----- \n",
      " 0   ID      510 non-null    int64 \n",
      " 1   Gene    510 non-null    object\n",
      "dtypes: int64(1), object(1)\n",
      "memory usage: 8.1+ KB\n"
     ]
    }
   ],
   "source": [
    "df_data_genomic_raw.info()"
   ]
  },
  {
   "cell_type": "markdown",
   "metadata": {},
   "source": [
    "Take a look at one patient:"
   ]
  },
  {
   "cell_type": "code",
   "execution_count": 3945,
   "metadata": {},
   "outputs": [
    {
     "data": {
      "text/html": [
       "<div>\n",
       "<style scoped>\n",
       "    .dataframe tbody tr th:only-of-type {\n",
       "        vertical-align: middle;\n",
       "    }\n",
       "\n",
       "    .dataframe tbody tr th {\n",
       "        vertical-align: top;\n",
       "    }\n",
       "\n",
       "    .dataframe thead th {\n",
       "        text-align: right;\n",
       "    }\n",
       "</style>\n",
       "<table border=\"1\" class=\"dataframe\">\n",
       "  <thead>\n",
       "    <tr style=\"text-align: right;\">\n",
       "      <th></th>\n",
       "      <th>ID</th>\n",
       "      <th>Gene</th>\n",
       "    </tr>\n",
       "  </thead>\n",
       "  <tbody>\n",
       "    <tr>\n",
       "      <th>0</th>\n",
       "      <td>1</td>\n",
       "      <td>AKT1</td>\n",
       "    </tr>\n",
       "    <tr>\n",
       "      <th>31</th>\n",
       "      <td>1</td>\n",
       "      <td>CCND2</td>\n",
       "    </tr>\n",
       "    <tr>\n",
       "      <th>85</th>\n",
       "      <td>1</td>\n",
       "      <td>EGFR</td>\n",
       "    </tr>\n",
       "    <tr>\n",
       "      <th>107</th>\n",
       "      <td>1</td>\n",
       "      <td>FGFR3</td>\n",
       "    </tr>\n",
       "    <tr>\n",
       "      <th>121</th>\n",
       "      <td>1</td>\n",
       "      <td>KRAS_Col1</td>\n",
       "    </tr>\n",
       "    <tr>\n",
       "      <th>260</th>\n",
       "      <td>1</td>\n",
       "      <td>PDGFRB</td>\n",
       "    </tr>\n",
       "    <tr>\n",
       "      <th>321</th>\n",
       "      <td>1</td>\n",
       "      <td>STK11</td>\n",
       "    </tr>\n",
       "    <tr>\n",
       "      <th>479</th>\n",
       "      <td>1</td>\n",
       "      <td>TSC2</td>\n",
       "    </tr>\n",
       "  </tbody>\n",
       "</table>\n",
       "</div>"
      ],
      "text/plain": [
       "     ID       Gene\n",
       "0     1       AKT1\n",
       "31    1      CCND2\n",
       "85    1       EGFR\n",
       "107   1      FGFR3\n",
       "121   1  KRAS_Col1\n",
       "260   1     PDGFRB\n",
       "321   1      STK11\n",
       "479   1       TSC2"
      ]
     },
     "execution_count": 3945,
     "metadata": {},
     "output_type": "execute_result"
    }
   ],
   "source": [
    "df_data_genomic_raw[df_data_genomic_raw['ID'] == 1]"
   ]
  },
  {
   "cell_type": "code",
   "execution_count": 3946,
   "metadata": {},
   "outputs": [
    {
     "data": {
      "text/plain": [
       "array(['AKT1', 'ALK_Col1', 'ALK_Col2', 'APC', 'ATM_Col1', 'ATM_Col2',\n",
       "       'BRAF', 'CCND2', 'CDKN2A', 'CTNNB1', 'DNMT3A', 'EGFR', 'ERBB3',\n",
       "       'ERBB4', 'ESR1', 'FBXW7', 'FGFR1', 'FGFR3', 'FLT4', 'FOXL2',\n",
       "       'GNAS', 'HNF1A', 'KRAS_Col1', 'KRAS_Col2', 'MAP2K2', 'MET',\n",
       "       'MLH_Col2', 'MSH2', 'MSH6', 'NF_Col1', 'NF_Col2', 'NF_Col3',\n",
       "       'NF_Col5', 'NOTCH1', 'NTRK1', 'PDGFRB', 'PIK3CA', 'PIK3CB',\n",
       "       'POLD_Col2', 'PTCH1', 'PTEN', 'RB1', 'SMARCA4', 'SMARCB1', 'SMO',\n",
       "       'STK11', 'TERT', 'TP53_Col1', 'TP53_Col2', 'TSC2'], dtype=object)"
      ]
     },
     "execution_count": 3946,
     "metadata": {},
     "output_type": "execute_result"
    }
   ],
   "source": [
    "df_data_genomic_raw['Gene'].unique()"
   ]
  },
  {
   "cell_type": "code",
   "execution_count": 3947,
   "metadata": {},
   "outputs": [
    {
     "data": {
      "text/plain": [
       "TP53_Col1    117\n",
       "KRAS_Col1     55\n",
       "CDKN2A        45\n",
       "TSC2          31\n",
       "MSH2          30\n",
       "STK11         23\n",
       "APC           19\n",
       "PIK3CB        11\n",
       "TERT          10\n",
       "NF_Col2       10\n",
       "SMARCB1        9\n",
       "MET            9\n",
       "TP53_Col2      8\n",
       "FBXW7          8\n",
       "SMO            8\n",
       "NF_Col3        7\n",
       "GNAS           7\n",
       "PIK3CA         7\n",
       "MSH6           7\n",
       "NTRK1          7\n",
       "PTEN           7\n",
       "EGFR           6\n",
       "POLD_Col2      5\n",
       "NF_Col1        5\n",
       "PDGFRB         5\n",
       "RB1            4\n",
       "ATM_Col1       4\n",
       "PTCH1          4\n",
       "CTNNB1         4\n",
       "FGFR1          4\n",
       "NOTCH1         4\n",
       "DNMT3A         3\n",
       "CCND2          2\n",
       "ALK_Col2       2\n",
       "AKT1           2\n",
       "NF_Col5        2\n",
       "ERBB4          2\n",
       "ALK_Col1       2\n",
       "FOXL2          2\n",
       "FLT4           2\n",
       "FGFR3          2\n",
       "MLH_Col2       1\n",
       "MAP2K2         1\n",
       "KRAS_Col2      1\n",
       "HNF1A          1\n",
       "SMARCA4        1\n",
       "BRAF           1\n",
       "ATM_Col2       1\n",
       "ESR1           1\n",
       "ERBB3          1\n",
       "Name: Gene, dtype: int64"
      ]
     },
     "execution_count": 3947,
     "metadata": {},
     "output_type": "execute_result"
    }
   ],
   "source": [
    "df_data_genomic_raw['Gene'].value_counts()"
   ]
  },
  {
   "cell_type": "markdown",
   "metadata": {},
   "source": [
    "Immediately, **TP53_Col1** stands out as the most frequently observed mutated gene. **KRAS_Col1** and **CDKN2A** also stand out as two potential at-risk genes. Additional background on each of these genes is provided below."
   ]
  },
  {
   "cell_type": "markdown",
   "metadata": {},
   "source": [
    "### TP53 (Tumor Protein P53)\n",
    ">TP53 encodes instructions for making the tumor suppressor protein p53, which regulates cell division by preventing cells from growing and proliferating in an uncontrolled manner. Somatic mutations in the TP53 gene are one of the most frequently observed mutations in human cancers. Furthermore, germline mutations of TP53 provide the hereditary basis for Li-Fraumeni syndrome (LFS). People with LFS are predisposed to a broad variety of early-onset cancers."
   ]
  },
  {
   "cell_type": "markdown",
   "metadata": {},
   "source": [
    "### KRAS (K-Ras)\n",
    ">KRAS provides instructions for the production of the protein K-Ras, which plays an important role in the RAS/MAPK signalling pathway. The function of this pathway is to transduce extracellular signals to the cell's nucleus, where specific genes are activated for cell growth, division, and differentiation."
   ]
  },
  {
   "cell_type": "markdown",
   "metadata": {},
   "source": [
    "### CDKN2A (Cyclin-Dependent Kinase Inhibitor 2A)\n",
    ">CDKN2A is ubiquitously expressed in many human tissues and codes for several proteins, the most well-studied of which being the p16(INK4A) and the p14(ARF) proteins. Notably, the ARF product functions as a stabilizer of the tumor suppressor protein p53."
   ]
  },
  {
   "cell_type": "markdown",
   "metadata": {},
   "source": [
    "### Effects of Mutations in TP53, KRAS, and CDKN2A on Prognosis"
   ]
  },
  {
   "cell_type": "markdown",
   "metadata": {},
   "source": [
    "Merging the clinical data dataframe and the genomic data dataframe results in an inefficiently organized table in which each distinct patient ID appears in multiple rows, with the only distinction between each row being a different mutated gene. This results in a lot of data redundancy which could be eliminated by creating a gene matrix in which each gene occupies its own column, with each row representing a distinct patient ID. However, this merged dataframe can be useful for quickly retrieving clinical information that may be correlated with the three at-risk genes of interest: **TP53**, **KRAS**, and **CDKN2A**."
   ]
  },
  {
   "cell_type": "code",
   "execution_count": 3948,
   "metadata": {},
   "outputs": [
    {
     "data": {
      "text/html": [
       "<div>\n",
       "<style scoped>\n",
       "    .dataframe tbody tr th:only-of-type {\n",
       "        vertical-align: middle;\n",
       "    }\n",
       "\n",
       "    .dataframe tbody tr th {\n",
       "        vertical-align: top;\n",
       "    }\n",
       "\n",
       "    .dataframe thead th {\n",
       "        text-align: right;\n",
       "    }\n",
       "</style>\n",
       "<table border=\"1\" class=\"dataframe\">\n",
       "  <thead>\n",
       "    <tr style=\"text-align: right;\">\n",
       "      <th></th>\n",
       "      <th>ID</th>\n",
       "      <th>Outcome</th>\n",
       "      <th>Survival.Months</th>\n",
       "      <th>Age</th>\n",
       "      <th>Num.Primaries</th>\n",
       "      <th>T</th>\n",
       "      <th>N</th>\n",
       "      <th>M</th>\n",
       "      <th>Radiation</th>\n",
       "      <th>Stage</th>\n",
       "      <th>Primary.Site</th>\n",
       "      <th>Histology</th>\n",
       "      <th>Tumor.Size</th>\n",
       "      <th>Gene</th>\n",
       "    </tr>\n",
       "  </thead>\n",
       "  <tbody>\n",
       "    <tr>\n",
       "      <th>0</th>\n",
       "      <td>1</td>\n",
       "      <td>Alive</td>\n",
       "      <td>9.0</td>\n",
       "      <td>67</td>\n",
       "      <td>0</td>\n",
       "      <td>UNK</td>\n",
       "      <td>2.0</td>\n",
       "      <td>0.0</td>\n",
       "      <td>0</td>\n",
       "      <td>IV</td>\n",
       "      <td>Left Lower Lobe</td>\n",
       "      <td>Squamous cell carcinoma</td>\n",
       "      <td>1.400000</td>\n",
       "      <td>AKT1</td>\n",
       "    </tr>\n",
       "    <tr>\n",
       "      <th>1</th>\n",
       "      <td>1</td>\n",
       "      <td>Alive</td>\n",
       "      <td>9.0</td>\n",
       "      <td>67</td>\n",
       "      <td>0</td>\n",
       "      <td>UNK</td>\n",
       "      <td>2.0</td>\n",
       "      <td>0.0</td>\n",
       "      <td>0</td>\n",
       "      <td>IV</td>\n",
       "      <td>Left Lower Lobe</td>\n",
       "      <td>Squamous cell carcinoma</td>\n",
       "      <td>1.400000</td>\n",
       "      <td>CCND2</td>\n",
       "    </tr>\n",
       "    <tr>\n",
       "      <th>2</th>\n",
       "      <td>1</td>\n",
       "      <td>Alive</td>\n",
       "      <td>9.0</td>\n",
       "      <td>67</td>\n",
       "      <td>0</td>\n",
       "      <td>UNK</td>\n",
       "      <td>2.0</td>\n",
       "      <td>0.0</td>\n",
       "      <td>0</td>\n",
       "      <td>IV</td>\n",
       "      <td>Left Lower Lobe</td>\n",
       "      <td>Squamous cell carcinoma</td>\n",
       "      <td>1.400000</td>\n",
       "      <td>EGFR</td>\n",
       "    </tr>\n",
       "    <tr>\n",
       "      <th>3</th>\n",
       "      <td>1</td>\n",
       "      <td>Alive</td>\n",
       "      <td>9.0</td>\n",
       "      <td>67</td>\n",
       "      <td>0</td>\n",
       "      <td>UNK</td>\n",
       "      <td>2.0</td>\n",
       "      <td>0.0</td>\n",
       "      <td>0</td>\n",
       "      <td>IV</td>\n",
       "      <td>Left Lower Lobe</td>\n",
       "      <td>Squamous cell carcinoma</td>\n",
       "      <td>1.400000</td>\n",
       "      <td>FGFR3</td>\n",
       "    </tr>\n",
       "    <tr>\n",
       "      <th>4</th>\n",
       "      <td>1</td>\n",
       "      <td>Alive</td>\n",
       "      <td>9.0</td>\n",
       "      <td>67</td>\n",
       "      <td>0</td>\n",
       "      <td>UNK</td>\n",
       "      <td>2.0</td>\n",
       "      <td>0.0</td>\n",
       "      <td>0</td>\n",
       "      <td>IV</td>\n",
       "      <td>Left Lower Lobe</td>\n",
       "      <td>Squamous cell carcinoma</td>\n",
       "      <td>1.400000</td>\n",
       "      <td>KRAS_Col1</td>\n",
       "    </tr>\n",
       "    <tr>\n",
       "      <th>...</th>\n",
       "      <td>...</td>\n",
       "      <td>...</td>\n",
       "      <td>...</td>\n",
       "      <td>...</td>\n",
       "      <td>...</td>\n",
       "      <td>...</td>\n",
       "      <td>...</td>\n",
       "      <td>...</td>\n",
       "      <td>...</td>\n",
       "      <td>...</td>\n",
       "      <td>...</td>\n",
       "      <td>...</td>\n",
       "      <td>...</td>\n",
       "      <td>...</td>\n",
       "    </tr>\n",
       "    <tr>\n",
       "      <th>505</th>\n",
       "      <td>189</td>\n",
       "      <td>Dead</td>\n",
       "      <td>32.0</td>\n",
       "      <td>67</td>\n",
       "      <td>1</td>\n",
       "      <td>1a</td>\n",
       "      <td>1.0</td>\n",
       "      <td>0.0</td>\n",
       "      <td>0</td>\n",
       "      <td>IV</td>\n",
       "      <td>Right Upper Lobe</td>\n",
       "      <td>Adenocarcinoma</td>\n",
       "      <td>10.000000</td>\n",
       "      <td>CDKN2A</td>\n",
       "    </tr>\n",
       "    <tr>\n",
       "      <th>506</th>\n",
       "      <td>189</td>\n",
       "      <td>Dead</td>\n",
       "      <td>32.0</td>\n",
       "      <td>67</td>\n",
       "      <td>1</td>\n",
       "      <td>1a</td>\n",
       "      <td>1.0</td>\n",
       "      <td>0.0</td>\n",
       "      <td>0</td>\n",
       "      <td>IV</td>\n",
       "      <td>Right Upper Lobe</td>\n",
       "      <td>Adenocarcinoma</td>\n",
       "      <td>10.000000</td>\n",
       "      <td>FBXW7</td>\n",
       "    </tr>\n",
       "    <tr>\n",
       "      <th>507</th>\n",
       "      <td>189</td>\n",
       "      <td>Dead</td>\n",
       "      <td>32.0</td>\n",
       "      <td>67</td>\n",
       "      <td>1</td>\n",
       "      <td>1a</td>\n",
       "      <td>1.0</td>\n",
       "      <td>0.0</td>\n",
       "      <td>0</td>\n",
       "      <td>IV</td>\n",
       "      <td>Right Upper Lobe</td>\n",
       "      <td>Adenocarcinoma</td>\n",
       "      <td>10.000000</td>\n",
       "      <td>TP53_Col1</td>\n",
       "    </tr>\n",
       "    <tr>\n",
       "      <th>508</th>\n",
       "      <td>190</td>\n",
       "      <td>Dead</td>\n",
       "      <td>33.0</td>\n",
       "      <td>71</td>\n",
       "      <td>0</td>\n",
       "      <td>2a</td>\n",
       "      <td>1.0</td>\n",
       "      <td>0.0</td>\n",
       "      <td>0</td>\n",
       "      <td>IIIB</td>\n",
       "      <td>Right Upper Lobe</td>\n",
       "      <td>Adenocarcinoma</td>\n",
       "      <td>4.494898</td>\n",
       "      <td>CDKN2A</td>\n",
       "    </tr>\n",
       "    <tr>\n",
       "      <th>509</th>\n",
       "      <td>190</td>\n",
       "      <td>Dead</td>\n",
       "      <td>33.0</td>\n",
       "      <td>71</td>\n",
       "      <td>0</td>\n",
       "      <td>2a</td>\n",
       "      <td>1.0</td>\n",
       "      <td>0.0</td>\n",
       "      <td>0</td>\n",
       "      <td>IIIB</td>\n",
       "      <td>Right Upper Lobe</td>\n",
       "      <td>Adenocarcinoma</td>\n",
       "      <td>4.494898</td>\n",
       "      <td>TP53_Col1</td>\n",
       "    </tr>\n",
       "  </tbody>\n",
       "</table>\n",
       "<p>510 rows × 14 columns</p>\n",
       "</div>"
      ],
      "text/plain": [
       "      ID Outcome  Survival.Months  Age  Num.Primaries    T    N    M  \\\n",
       "0      1   Alive              9.0   67              0  UNK  2.0  0.0   \n",
       "1      1   Alive              9.0   67              0  UNK  2.0  0.0   \n",
       "2      1   Alive              9.0   67              0  UNK  2.0  0.0   \n",
       "3      1   Alive              9.0   67              0  UNK  2.0  0.0   \n",
       "4      1   Alive              9.0   67              0  UNK  2.0  0.0   \n",
       "..   ...     ...              ...  ...            ...  ...  ...  ...   \n",
       "505  189    Dead             32.0   67              1   1a  1.0  0.0   \n",
       "506  189    Dead             32.0   67              1   1a  1.0  0.0   \n",
       "507  189    Dead             32.0   67              1   1a  1.0  0.0   \n",
       "508  190    Dead             33.0   71              0   2a  1.0  0.0   \n",
       "509  190    Dead             33.0   71              0   2a  1.0  0.0   \n",
       "\n",
       "     Radiation Stage      Primary.Site                Histology  Tumor.Size  \\\n",
       "0            0    IV   Left Lower Lobe  Squamous cell carcinoma    1.400000   \n",
       "1            0    IV   Left Lower Lobe  Squamous cell carcinoma    1.400000   \n",
       "2            0    IV   Left Lower Lobe  Squamous cell carcinoma    1.400000   \n",
       "3            0    IV   Left Lower Lobe  Squamous cell carcinoma    1.400000   \n",
       "4            0    IV   Left Lower Lobe  Squamous cell carcinoma    1.400000   \n",
       "..         ...   ...               ...                      ...         ...   \n",
       "505          0    IV  Right Upper Lobe           Adenocarcinoma   10.000000   \n",
       "506          0    IV  Right Upper Lobe           Adenocarcinoma   10.000000   \n",
       "507          0    IV  Right Upper Lobe           Adenocarcinoma   10.000000   \n",
       "508          0  IIIB  Right Upper Lobe           Adenocarcinoma    4.494898   \n",
       "509          0  IIIB  Right Upper Lobe           Adenocarcinoma    4.494898   \n",
       "\n",
       "          Gene  \n",
       "0         AKT1  \n",
       "1        CCND2  \n",
       "2         EGFR  \n",
       "3        FGFR3  \n",
       "4    KRAS_Col1  \n",
       "..         ...  \n",
       "505     CDKN2A  \n",
       "506      FBXW7  \n",
       "507  TP53_Col1  \n",
       "508     CDKN2A  \n",
       "509  TP53_Col1  \n",
       "\n",
       "[510 rows x 14 columns]"
      ]
     },
     "execution_count": 3948,
     "metadata": {},
     "output_type": "execute_result"
    }
   ],
   "source": [
    "df_clinical_genes = pd.merge(df_data_clinical, df_data_genomic_raw)\n",
    "df_clinical_genes"
   ]
  },
  {
   "cell_type": "markdown",
   "metadata": {},
   "source": [
    "Function for querying the merged dataframe by gene:"
   ]
  },
  {
   "cell_type": "code",
   "execution_count": 3949,
   "metadata": {},
   "outputs": [],
   "source": [
    "def query_by_gene(dataframe, gene):\n",
    "    return dataframe[dataframe['Gene']==gene]"
   ]
  },
  {
   "cell_type": "code",
   "execution_count": 3950,
   "metadata": {},
   "outputs": [
    {
     "data": {
      "text/html": [
       "<div>\n",
       "<style scoped>\n",
       "    .dataframe tbody tr th:only-of-type {\n",
       "        vertical-align: middle;\n",
       "    }\n",
       "\n",
       "    .dataframe tbody tr th {\n",
       "        vertical-align: top;\n",
       "    }\n",
       "\n",
       "    .dataframe thead th {\n",
       "        text-align: right;\n",
       "    }\n",
       "</style>\n",
       "<table border=\"1\" class=\"dataframe\">\n",
       "  <thead>\n",
       "    <tr style=\"text-align: right;\">\n",
       "      <th></th>\n",
       "      <th>ID</th>\n",
       "      <th>Outcome</th>\n",
       "      <th>Survival.Months</th>\n",
       "      <th>Age</th>\n",
       "      <th>Num.Primaries</th>\n",
       "      <th>T</th>\n",
       "      <th>N</th>\n",
       "      <th>M</th>\n",
       "      <th>Radiation</th>\n",
       "      <th>Stage</th>\n",
       "      <th>Primary.Site</th>\n",
       "      <th>Histology</th>\n",
       "      <th>Tumor.Size</th>\n",
       "      <th>Gene</th>\n",
       "    </tr>\n",
       "  </thead>\n",
       "  <tbody>\n",
       "    <tr>\n",
       "      <th>9</th>\n",
       "      <td>2</td>\n",
       "      <td>Dead</td>\n",
       "      <td>19.0</td>\n",
       "      <td>73</td>\n",
       "      <td>0</td>\n",
       "      <td>UNK</td>\n",
       "      <td>2.0</td>\n",
       "      <td>0.0</td>\n",
       "      <td>5</td>\n",
       "      <td>IV</td>\n",
       "      <td>Right Upper Lobe</td>\n",
       "      <td>Adenocarcinoma</td>\n",
       "      <td>4.494898</td>\n",
       "      <td>TP53_Col1</td>\n",
       "    </tr>\n",
       "    <tr>\n",
       "      <th>14</th>\n",
       "      <td>4</td>\n",
       "      <td>Dead</td>\n",
       "      <td>15.0</td>\n",
       "      <td>69</td>\n",
       "      <td>1</td>\n",
       "      <td>1a</td>\n",
       "      <td>0.0</td>\n",
       "      <td>1.0</td>\n",
       "      <td>0</td>\n",
       "      <td>IA</td>\n",
       "      <td>Right Upper Lobe</td>\n",
       "      <td>Adenocarcinoma</td>\n",
       "      <td>4.494898</td>\n",
       "      <td>TP53_Col1</td>\n",
       "    </tr>\n",
       "    <tr>\n",
       "      <th>16</th>\n",
       "      <td>5</td>\n",
       "      <td>Dead</td>\n",
       "      <td>10.0</td>\n",
       "      <td>76</td>\n",
       "      <td>0</td>\n",
       "      <td>UNK</td>\n",
       "      <td>1.0</td>\n",
       "      <td>0.0</td>\n",
       "      <td>0</td>\n",
       "      <td>IIIA</td>\n",
       "      <td>Left Hilar</td>\n",
       "      <td>Large-cell carcinoma</td>\n",
       "      <td>4.494898</td>\n",
       "      <td>TP53_Col1</td>\n",
       "    </tr>\n",
       "    <tr>\n",
       "      <th>20</th>\n",
       "      <td>6</td>\n",
       "      <td>Dead</td>\n",
       "      <td>11.0</td>\n",
       "      <td>62</td>\n",
       "      <td>0</td>\n",
       "      <td>3</td>\n",
       "      <td>2.0</td>\n",
       "      <td>0.0</td>\n",
       "      <td>0</td>\n",
       "      <td>IVB</td>\n",
       "      <td>Left Hilar</td>\n",
       "      <td>Adenocarcinoma</td>\n",
       "      <td>4.494898</td>\n",
       "      <td>TP53_Col1</td>\n",
       "    </tr>\n",
       "    <tr>\n",
       "      <th>25</th>\n",
       "      <td>7</td>\n",
       "      <td>Dead</td>\n",
       "      <td>13.0</td>\n",
       "      <td>72</td>\n",
       "      <td>0</td>\n",
       "      <td>4</td>\n",
       "      <td>1.0</td>\n",
       "      <td>1.0</td>\n",
       "      <td>5</td>\n",
       "      <td>IV</td>\n",
       "      <td>Right Hilar</td>\n",
       "      <td>Adenocarcinoma</td>\n",
       "      <td>5.500000</td>\n",
       "      <td>TP53_Col1</td>\n",
       "    </tr>\n",
       "    <tr>\n",
       "      <th>...</th>\n",
       "      <td>...</td>\n",
       "      <td>...</td>\n",
       "      <td>...</td>\n",
       "      <td>...</td>\n",
       "      <td>...</td>\n",
       "      <td>...</td>\n",
       "      <td>...</td>\n",
       "      <td>...</td>\n",
       "      <td>...</td>\n",
       "      <td>...</td>\n",
       "      <td>...</td>\n",
       "      <td>...</td>\n",
       "      <td>...</td>\n",
       "      <td>...</td>\n",
       "    </tr>\n",
       "    <tr>\n",
       "      <th>491</th>\n",
       "      <td>183</td>\n",
       "      <td>Dead</td>\n",
       "      <td>35.0</td>\n",
       "      <td>72</td>\n",
       "      <td>1</td>\n",
       "      <td>UNK</td>\n",
       "      <td>2.0</td>\n",
       "      <td>0.0</td>\n",
       "      <td>0</td>\n",
       "      <td>IIA</td>\n",
       "      <td>Right Lower Lobe</td>\n",
       "      <td>Squamous cell carcinoma</td>\n",
       "      <td>2.000000</td>\n",
       "      <td>TP53_Col1</td>\n",
       "    </tr>\n",
       "    <tr>\n",
       "      <th>496</th>\n",
       "      <td>185</td>\n",
       "      <td>Alive</td>\n",
       "      <td>33.0</td>\n",
       "      <td>71</td>\n",
       "      <td>0</td>\n",
       "      <td>UNK</td>\n",
       "      <td>0.0</td>\n",
       "      <td>0.0</td>\n",
       "      <td>0</td>\n",
       "      <td>IV</td>\n",
       "      <td>Right Lower Lobe</td>\n",
       "      <td>Adenocarcinoma</td>\n",
       "      <td>1.500000</td>\n",
       "      <td>TP53_Col1</td>\n",
       "    </tr>\n",
       "    <tr>\n",
       "      <th>504</th>\n",
       "      <td>188</td>\n",
       "      <td>Dead</td>\n",
       "      <td>23.0</td>\n",
       "      <td>72</td>\n",
       "      <td>0</td>\n",
       "      <td>3</td>\n",
       "      <td>1.0</td>\n",
       "      <td>0.0</td>\n",
       "      <td>0</td>\n",
       "      <td>IA</td>\n",
       "      <td>Right Upper Lobe</td>\n",
       "      <td>Squamous cell carcinoma</td>\n",
       "      <td>2.000000</td>\n",
       "      <td>TP53_Col1</td>\n",
       "    </tr>\n",
       "    <tr>\n",
       "      <th>507</th>\n",
       "      <td>189</td>\n",
       "      <td>Dead</td>\n",
       "      <td>32.0</td>\n",
       "      <td>67</td>\n",
       "      <td>1</td>\n",
       "      <td>1a</td>\n",
       "      <td>1.0</td>\n",
       "      <td>0.0</td>\n",
       "      <td>0</td>\n",
       "      <td>IV</td>\n",
       "      <td>Right Upper Lobe</td>\n",
       "      <td>Adenocarcinoma</td>\n",
       "      <td>10.000000</td>\n",
       "      <td>TP53_Col1</td>\n",
       "    </tr>\n",
       "    <tr>\n",
       "      <th>509</th>\n",
       "      <td>190</td>\n",
       "      <td>Dead</td>\n",
       "      <td>33.0</td>\n",
       "      <td>71</td>\n",
       "      <td>0</td>\n",
       "      <td>2a</td>\n",
       "      <td>1.0</td>\n",
       "      <td>0.0</td>\n",
       "      <td>0</td>\n",
       "      <td>IIIB</td>\n",
       "      <td>Right Upper Lobe</td>\n",
       "      <td>Adenocarcinoma</td>\n",
       "      <td>4.494898</td>\n",
       "      <td>TP53_Col1</td>\n",
       "    </tr>\n",
       "  </tbody>\n",
       "</table>\n",
       "<p>117 rows × 14 columns</p>\n",
       "</div>"
      ],
      "text/plain": [
       "      ID Outcome  Survival.Months  Age  Num.Primaries    T    N    M  \\\n",
       "9      2    Dead             19.0   73              0  UNK  2.0  0.0   \n",
       "14     4    Dead             15.0   69              1   1a  0.0  1.0   \n",
       "16     5    Dead             10.0   76              0  UNK  1.0  0.0   \n",
       "20     6    Dead             11.0   62              0    3  2.0  0.0   \n",
       "25     7    Dead             13.0   72              0    4  1.0  1.0   \n",
       "..   ...     ...              ...  ...            ...  ...  ...  ...   \n",
       "491  183    Dead             35.0   72              1  UNK  2.0  0.0   \n",
       "496  185   Alive             33.0   71              0  UNK  0.0  0.0   \n",
       "504  188    Dead             23.0   72              0    3  1.0  0.0   \n",
       "507  189    Dead             32.0   67              1   1a  1.0  0.0   \n",
       "509  190    Dead             33.0   71              0   2a  1.0  0.0   \n",
       "\n",
       "     Radiation Stage      Primary.Site                Histology  Tumor.Size  \\\n",
       "9            5    IV  Right Upper Lobe           Adenocarcinoma    4.494898   \n",
       "14           0    IA  Right Upper Lobe           Adenocarcinoma    4.494898   \n",
       "16           0  IIIA        Left Hilar     Large-cell carcinoma    4.494898   \n",
       "20           0   IVB        Left Hilar           Adenocarcinoma    4.494898   \n",
       "25           5    IV       Right Hilar           Adenocarcinoma    5.500000   \n",
       "..         ...   ...               ...                      ...         ...   \n",
       "491          0   IIA  Right Lower Lobe  Squamous cell carcinoma    2.000000   \n",
       "496          0    IV  Right Lower Lobe           Adenocarcinoma    1.500000   \n",
       "504          0    IA  Right Upper Lobe  Squamous cell carcinoma    2.000000   \n",
       "507          0    IV  Right Upper Lobe           Adenocarcinoma   10.000000   \n",
       "509          0  IIIB  Right Upper Lobe           Adenocarcinoma    4.494898   \n",
       "\n",
       "          Gene  \n",
       "9    TP53_Col1  \n",
       "14   TP53_Col1  \n",
       "16   TP53_Col1  \n",
       "20   TP53_Col1  \n",
       "25   TP53_Col1  \n",
       "..         ...  \n",
       "491  TP53_Col1  \n",
       "496  TP53_Col1  \n",
       "504  TP53_Col1  \n",
       "507  TP53_Col1  \n",
       "509  TP53_Col1  \n",
       "\n",
       "[117 rows x 14 columns]"
      ]
     },
     "execution_count": 3950,
     "metadata": {},
     "output_type": "execute_result"
    }
   ],
   "source": [
    "query_by_gene(df_clinical_genes, 'TP53_Col1')"
   ]
  },
  {
   "cell_type": "code",
   "execution_count": 3951,
   "metadata": {},
   "outputs": [
    {
     "name": "stdout",
     "output_type": "stream",
     "text": [
      "Survival rate of patients with TP53 mutation(s): 0.2564102564102564\n",
      "Total number of patients with TP53 mutation(s): 117 \n",
      "\n",
      "Survival rate of patients with KRAS mutation(s): 0.23636363636363636\n",
      "Total number of patients with KRAS mutation(s): 55 \n",
      "\n",
      "Survival rate of patients with CDKN2A mutation(s): 0.06666666666666667\n",
      "Total number of patients with CDKN2A mutation(s): 45\n"
     ]
    }
   ],
   "source": [
    "# clinical data for patients with mutations in either TP53, KRAS, or CDKN2A\n",
    "patients_tp53 = query_by_gene(df_clinical_genes, 'TP53_Col1')\n",
    "patients_kras = query_by_gene(df_clinical_genes, 'KRAS_Col1')\n",
    "patients_cdkn2a = query_by_gene(df_clinical_genes, 'CDKN2A')\n",
    "\n",
    "# patients with each mutated gene that survived their cancer\n",
    "alive_tp53 = patients_tp53[patients_tp53['Outcome'] == 'Alive']\n",
    "alive_kras = patients_kras[patients_kras['Outcome'] == 'Alive']\n",
    "alive_cdkn2a = patients_cdkn2a[patients_cdkn2a['Outcome'] == 'Alive']\n",
    "\n",
    "# survival rate\n",
    "rate_tp53 = len(alive_tp53) / len(patients_tp53)\n",
    "rate_kras = len(alive_kras) / len(patients_kras)\n",
    "rate_cdkn2a = len(alive_cdkn2a) / len(patients_cdkn2a)\n",
    "\n",
    "print('Survival rate of patients with TP53 mutation(s):', rate_tp53)\n",
    "print('Total number of patients with TP53 mutation(s):', len(patients_tp53), '\\n')\n",
    "print('Survival rate of patients with KRAS mutation(s):', rate_kras)\n",
    "print('Total number of patients with KRAS mutation(s):', len(patients_kras), '\\n')\n",
    "print('Survival rate of patients with CDKN2A mutation(s):', rate_cdkn2a)\n",
    "print('Total number of patients with CDKN2A mutation(s):', len(patients_cdkn2a))"
   ]
  },
  {
   "cell_type": "markdown",
   "metadata": {},
   "source": [
    "The survival rate for patients with mutation(s) in TP53, KRAS, and CDKN2A are 25.64%, 23.64%, and 6.67%, respectively. While TP53 is the most frequently observed mutated gene, CDKN2A is correlated with poorer prognosis. This suggests that while TP53 may be the most commonly mutated gene in this dataset, other less frequently occuring mutations may exist that have substantially detrimental effects on cancer outcome. Thus, more at-risk genes may be discovered by examining the genomic data of deceased patients."
   ]
  },
  {
   "cell_type": "code",
   "execution_count": 3952,
   "metadata": {},
   "outputs": [],
   "source": [
    "genes = df_clinical_genes['Gene'].unique()\n",
    "num_patients = []\n",
    "rates = []\n",
    "\n",
    "for gene in genes:\n",
    "    df_genes = df_clinical_genes[df_clinical_genes['Gene'] == gene]\n",
    "    alive_patients = len(df_genes[df_genes['Outcome'] == 'Alive'])\n",
    "    total_patients = len(df_genes)\n",
    "    rate = num_alive / total_patients\n",
    "\n",
    "    num_patients.append(total_patients)\n",
    "    rates.append(rate)\n",
    "\n",
    "gene_dictionary = {\"Gene\":genes, \"Number of Patients\":num_patients, \"Survival Rate\":rates}\n",
    "df_gene_survival = pd.DataFrame(gene_dictionary)"
   ]
  },
  {
   "cell_type": "code",
   "execution_count": 3953,
   "metadata": {},
   "outputs": [
    {
     "data": {
      "text/html": [
       "<div>\n",
       "<style scoped>\n",
       "    .dataframe tbody tr th:only-of-type {\n",
       "        vertical-align: middle;\n",
       "    }\n",
       "\n",
       "    .dataframe tbody tr th {\n",
       "        vertical-align: top;\n",
       "    }\n",
       "\n",
       "    .dataframe thead th {\n",
       "        text-align: right;\n",
       "    }\n",
       "</style>\n",
       "<table border=\"1\" class=\"dataframe\">\n",
       "  <thead>\n",
       "    <tr style=\"text-align: right;\">\n",
       "      <th></th>\n",
       "      <th>Gene</th>\n",
       "      <th>Number of Patients</th>\n",
       "      <th>Survival Rate</th>\n",
       "    </tr>\n",
       "  </thead>\n",
       "  <tbody>\n",
       "    <tr>\n",
       "      <th>0</th>\n",
       "      <td>AKT1</td>\n",
       "      <td>2</td>\n",
       "      <td>20.000000</td>\n",
       "    </tr>\n",
       "    <tr>\n",
       "      <th>1</th>\n",
       "      <td>CCND2</td>\n",
       "      <td>2</td>\n",
       "      <td>20.000000</td>\n",
       "    </tr>\n",
       "    <tr>\n",
       "      <th>2</th>\n",
       "      <td>EGFR</td>\n",
       "      <td>6</td>\n",
       "      <td>6.666667</td>\n",
       "    </tr>\n",
       "    <tr>\n",
       "      <th>3</th>\n",
       "      <td>FGFR3</td>\n",
       "      <td>2</td>\n",
       "      <td>20.000000</td>\n",
       "    </tr>\n",
       "    <tr>\n",
       "      <th>4</th>\n",
       "      <td>KRAS_Col1</td>\n",
       "      <td>55</td>\n",
       "      <td>0.727273</td>\n",
       "    </tr>\n",
       "  </tbody>\n",
       "</table>\n",
       "</div>"
      ],
      "text/plain": [
       "        Gene  Number of Patients  Survival Rate\n",
       "0       AKT1                   2      20.000000\n",
       "1      CCND2                   2      20.000000\n",
       "2       EGFR                   6       6.666667\n",
       "3      FGFR3                   2      20.000000\n",
       "4  KRAS_Col1                  55       0.727273"
      ]
     },
     "execution_count": 3953,
     "metadata": {},
     "output_type": "execute_result"
    }
   ],
   "source": [
    "df_gene_survival.head()"
   ]
  },
  {
   "cell_type": "code",
   "execution_count": 3954,
   "metadata": {},
   "outputs": [
    {
     "data": {
      "text/html": [
       "<div>\n",
       "<style scoped>\n",
       "    .dataframe tbody tr th:only-of-type {\n",
       "        vertical-align: middle;\n",
       "    }\n",
       "\n",
       "    .dataframe tbody tr th {\n",
       "        vertical-align: top;\n",
       "    }\n",
       "\n",
       "    .dataframe thead th {\n",
       "        text-align: right;\n",
       "    }\n",
       "</style>\n",
       "<table border=\"1\" class=\"dataframe\">\n",
       "  <thead>\n",
       "    <tr style=\"text-align: right;\">\n",
       "      <th></th>\n",
       "      <th>Gene</th>\n",
       "      <th>Number of Patients</th>\n",
       "      <th>Survival Rate</th>\n",
       "    </tr>\n",
       "  </thead>\n",
       "  <tbody>\n",
       "    <tr>\n",
       "      <th>9</th>\n",
       "      <td>TP53_Col1</td>\n",
       "      <td>117</td>\n",
       "      <td>0.341880</td>\n",
       "    </tr>\n",
       "    <tr>\n",
       "      <th>4</th>\n",
       "      <td>KRAS_Col1</td>\n",
       "      <td>55</td>\n",
       "      <td>0.727273</td>\n",
       "    </tr>\n",
       "    <tr>\n",
       "      <th>10</th>\n",
       "      <td>CDKN2A</td>\n",
       "      <td>45</td>\n",
       "      <td>0.888889</td>\n",
       "    </tr>\n",
       "    <tr>\n",
       "      <th>7</th>\n",
       "      <td>TSC2</td>\n",
       "      <td>31</td>\n",
       "      <td>1.290323</td>\n",
       "    </tr>\n",
       "    <tr>\n",
       "      <th>14</th>\n",
       "      <td>MSH2</td>\n",
       "      <td>30</td>\n",
       "      <td>1.333333</td>\n",
       "    </tr>\n",
       "    <tr>\n",
       "      <th>6</th>\n",
       "      <td>STK11</td>\n",
       "      <td>23</td>\n",
       "      <td>1.739130</td>\n",
       "    </tr>\n",
       "    <tr>\n",
       "      <th>13</th>\n",
       "      <td>APC</td>\n",
       "      <td>19</td>\n",
       "      <td>2.105263</td>\n",
       "    </tr>\n",
       "    <tr>\n",
       "      <th>12</th>\n",
       "      <td>PIK3CB</td>\n",
       "      <td>11</td>\n",
       "      <td>3.636364</td>\n",
       "    </tr>\n",
       "    <tr>\n",
       "      <th>17</th>\n",
       "      <td>TERT</td>\n",
       "      <td>10</td>\n",
       "      <td>4.000000</td>\n",
       "    </tr>\n",
       "    <tr>\n",
       "      <th>34</th>\n",
       "      <td>NF_Col2</td>\n",
       "      <td>10</td>\n",
       "      <td>4.000000</td>\n",
       "    </tr>\n",
       "    <tr>\n",
       "      <th>11</th>\n",
       "      <td>MET</td>\n",
       "      <td>9</td>\n",
       "      <td>4.444444</td>\n",
       "    </tr>\n",
       "    <tr>\n",
       "      <th>28</th>\n",
       "      <td>SMARCB1</td>\n",
       "      <td>9</td>\n",
       "      <td>4.444444</td>\n",
       "    </tr>\n",
       "    <tr>\n",
       "      <th>33</th>\n",
       "      <td>TP53_Col2</td>\n",
       "      <td>8</td>\n",
       "      <td>5.000000</td>\n",
       "    </tr>\n",
       "    <tr>\n",
       "      <th>19</th>\n",
       "      <td>FBXW7</td>\n",
       "      <td>8</td>\n",
       "      <td>5.000000</td>\n",
       "    </tr>\n",
       "    <tr>\n",
       "      <th>8</th>\n",
       "      <td>SMO</td>\n",
       "      <td>8</td>\n",
       "      <td>5.000000</td>\n",
       "    </tr>\n",
       "    <tr>\n",
       "      <th>18</th>\n",
       "      <td>NTRK1</td>\n",
       "      <td>7</td>\n",
       "      <td>5.714286</td>\n",
       "    </tr>\n",
       "    <tr>\n",
       "      <th>39</th>\n",
       "      <td>MSH6</td>\n",
       "      <td>7</td>\n",
       "      <td>5.714286</td>\n",
       "    </tr>\n",
       "    <tr>\n",
       "      <th>15</th>\n",
       "      <td>GNAS</td>\n",
       "      <td>7</td>\n",
       "      <td>5.714286</td>\n",
       "    </tr>\n",
       "    <tr>\n",
       "      <th>16</th>\n",
       "      <td>PIK3CA</td>\n",
       "      <td>7</td>\n",
       "      <td>5.714286</td>\n",
       "    </tr>\n",
       "    <tr>\n",
       "      <th>26</th>\n",
       "      <td>PTEN</td>\n",
       "      <td>7</td>\n",
       "      <td>5.714286</td>\n",
       "    </tr>\n",
       "    <tr>\n",
       "      <th>29</th>\n",
       "      <td>NF_Col3</td>\n",
       "      <td>7</td>\n",
       "      <td>5.714286</td>\n",
       "    </tr>\n",
       "    <tr>\n",
       "      <th>2</th>\n",
       "      <td>EGFR</td>\n",
       "      <td>6</td>\n",
       "      <td>6.666667</td>\n",
       "    </tr>\n",
       "    <tr>\n",
       "      <th>35</th>\n",
       "      <td>POLD_Col2</td>\n",
       "      <td>5</td>\n",
       "      <td>8.000000</td>\n",
       "    </tr>\n",
       "    <tr>\n",
       "      <th>5</th>\n",
       "      <td>PDGFRB</td>\n",
       "      <td>5</td>\n",
       "      <td>8.000000</td>\n",
       "    </tr>\n",
       "    <tr>\n",
       "      <th>27</th>\n",
       "      <td>NF_Col1</td>\n",
       "      <td>5</td>\n",
       "      <td>8.000000</td>\n",
       "    </tr>\n",
       "    <tr>\n",
       "      <th>31</th>\n",
       "      <td>NOTCH1</td>\n",
       "      <td>4</td>\n",
       "      <td>10.000000</td>\n",
       "    </tr>\n",
       "    <tr>\n",
       "      <th>32</th>\n",
       "      <td>PTCH1</td>\n",
       "      <td>4</td>\n",
       "      <td>10.000000</td>\n",
       "    </tr>\n",
       "    <tr>\n",
       "      <th>30</th>\n",
       "      <td>CTNNB1</td>\n",
       "      <td>4</td>\n",
       "      <td>10.000000</td>\n",
       "    </tr>\n",
       "    <tr>\n",
       "      <th>22</th>\n",
       "      <td>FGFR1</td>\n",
       "      <td>4</td>\n",
       "      <td>10.000000</td>\n",
       "    </tr>\n",
       "    <tr>\n",
       "      <th>20</th>\n",
       "      <td>RB1</td>\n",
       "      <td>4</td>\n",
       "      <td>10.000000</td>\n",
       "    </tr>\n",
       "    <tr>\n",
       "      <th>36</th>\n",
       "      <td>ATM_Col1</td>\n",
       "      <td>4</td>\n",
       "      <td>10.000000</td>\n",
       "    </tr>\n",
       "    <tr>\n",
       "      <th>21</th>\n",
       "      <td>DNMT3A</td>\n",
       "      <td>3</td>\n",
       "      <td>13.333333</td>\n",
       "    </tr>\n",
       "    <tr>\n",
       "      <th>45</th>\n",
       "      <td>NF_Col5</td>\n",
       "      <td>2</td>\n",
       "      <td>20.000000</td>\n",
       "    </tr>\n",
       "    <tr>\n",
       "      <th>38</th>\n",
       "      <td>ERBB4</td>\n",
       "      <td>2</td>\n",
       "      <td>20.000000</td>\n",
       "    </tr>\n",
       "    <tr>\n",
       "      <th>40</th>\n",
       "      <td>ALK_Col1</td>\n",
       "      <td>2</td>\n",
       "      <td>20.000000</td>\n",
       "    </tr>\n",
       "    <tr>\n",
       "      <th>0</th>\n",
       "      <td>AKT1</td>\n",
       "      <td>2</td>\n",
       "      <td>20.000000</td>\n",
       "    </tr>\n",
       "    <tr>\n",
       "      <th>23</th>\n",
       "      <td>ALK_Col2</td>\n",
       "      <td>2</td>\n",
       "      <td>20.000000</td>\n",
       "    </tr>\n",
       "    <tr>\n",
       "      <th>3</th>\n",
       "      <td>FGFR3</td>\n",
       "      <td>2</td>\n",
       "      <td>20.000000</td>\n",
       "    </tr>\n",
       "    <tr>\n",
       "      <th>1</th>\n",
       "      <td>CCND2</td>\n",
       "      <td>2</td>\n",
       "      <td>20.000000</td>\n",
       "    </tr>\n",
       "    <tr>\n",
       "      <th>46</th>\n",
       "      <td>FLT4</td>\n",
       "      <td>2</td>\n",
       "      <td>20.000000</td>\n",
       "    </tr>\n",
       "    <tr>\n",
       "      <th>43</th>\n",
       "      <td>FOXL2</td>\n",
       "      <td>2</td>\n",
       "      <td>20.000000</td>\n",
       "    </tr>\n",
       "    <tr>\n",
       "      <th>47</th>\n",
       "      <td>ATM_Col2</td>\n",
       "      <td>1</td>\n",
       "      <td>40.000000</td>\n",
       "    </tr>\n",
       "    <tr>\n",
       "      <th>44</th>\n",
       "      <td>HNF1A</td>\n",
       "      <td>1</td>\n",
       "      <td>40.000000</td>\n",
       "    </tr>\n",
       "    <tr>\n",
       "      <th>24</th>\n",
       "      <td>MAP2K2</td>\n",
       "      <td>1</td>\n",
       "      <td>40.000000</td>\n",
       "    </tr>\n",
       "    <tr>\n",
       "      <th>41</th>\n",
       "      <td>MLH_Col2</td>\n",
       "      <td>1</td>\n",
       "      <td>40.000000</td>\n",
       "    </tr>\n",
       "    <tr>\n",
       "      <th>37</th>\n",
       "      <td>ERBB3</td>\n",
       "      <td>1</td>\n",
       "      <td>40.000000</td>\n",
       "    </tr>\n",
       "    <tr>\n",
       "      <th>25</th>\n",
       "      <td>SMARCA4</td>\n",
       "      <td>1</td>\n",
       "      <td>40.000000</td>\n",
       "    </tr>\n",
       "    <tr>\n",
       "      <th>48</th>\n",
       "      <td>ESR1</td>\n",
       "      <td>1</td>\n",
       "      <td>40.000000</td>\n",
       "    </tr>\n",
       "    <tr>\n",
       "      <th>42</th>\n",
       "      <td>BRAF</td>\n",
       "      <td>1</td>\n",
       "      <td>40.000000</td>\n",
       "    </tr>\n",
       "    <tr>\n",
       "      <th>49</th>\n",
       "      <td>KRAS_Col2</td>\n",
       "      <td>1</td>\n",
       "      <td>40.000000</td>\n",
       "    </tr>\n",
       "  </tbody>\n",
       "</table>\n",
       "</div>"
      ],
      "text/plain": [
       "         Gene  Number of Patients  Survival Rate\n",
       "9   TP53_Col1                 117       0.341880\n",
       "4   KRAS_Col1                  55       0.727273\n",
       "10     CDKN2A                  45       0.888889\n",
       "7        TSC2                  31       1.290323\n",
       "14       MSH2                  30       1.333333\n",
       "6       STK11                  23       1.739130\n",
       "13        APC                  19       2.105263\n",
       "12     PIK3CB                  11       3.636364\n",
       "17       TERT                  10       4.000000\n",
       "34    NF_Col2                  10       4.000000\n",
       "11        MET                   9       4.444444\n",
       "28    SMARCB1                   9       4.444444\n",
       "33  TP53_Col2                   8       5.000000\n",
       "19      FBXW7                   8       5.000000\n",
       "8         SMO                   8       5.000000\n",
       "18      NTRK1                   7       5.714286\n",
       "39       MSH6                   7       5.714286\n",
       "15       GNAS                   7       5.714286\n",
       "16     PIK3CA                   7       5.714286\n",
       "26       PTEN                   7       5.714286\n",
       "29    NF_Col3                   7       5.714286\n",
       "2        EGFR                   6       6.666667\n",
       "35  POLD_Col2                   5       8.000000\n",
       "5      PDGFRB                   5       8.000000\n",
       "27    NF_Col1                   5       8.000000\n",
       "31     NOTCH1                   4      10.000000\n",
       "32      PTCH1                   4      10.000000\n",
       "30     CTNNB1                   4      10.000000\n",
       "22      FGFR1                   4      10.000000\n",
       "20        RB1                   4      10.000000\n",
       "36   ATM_Col1                   4      10.000000\n",
       "21     DNMT3A                   3      13.333333\n",
       "45    NF_Col5                   2      20.000000\n",
       "38      ERBB4                   2      20.000000\n",
       "40   ALK_Col1                   2      20.000000\n",
       "0        AKT1                   2      20.000000\n",
       "23   ALK_Col2                   2      20.000000\n",
       "3       FGFR3                   2      20.000000\n",
       "1       CCND2                   2      20.000000\n",
       "46       FLT4                   2      20.000000\n",
       "43      FOXL2                   2      20.000000\n",
       "47   ATM_Col2                   1      40.000000\n",
       "44      HNF1A                   1      40.000000\n",
       "24     MAP2K2                   1      40.000000\n",
       "41   MLH_Col2                   1      40.000000\n",
       "37      ERBB3                   1      40.000000\n",
       "25    SMARCA4                   1      40.000000\n",
       "48       ESR1                   1      40.000000\n",
       "42       BRAF                   1      40.000000\n",
       "49  KRAS_Col2                   1      40.000000"
      ]
     },
     "execution_count": 3954,
     "metadata": {},
     "output_type": "execute_result"
    }
   ],
   "source": [
    "df_gene_survival.sort_values(by='Survival Rate')"
   ]
  },
  {
   "cell_type": "markdown",
   "metadata": {},
   "source": [
    "In addition to TP53, KRAS, and CDKN2A, three additional potential at-risk genes are TSC2, MSH2, and STK11 due to their low survival rates. However, mutations in TP53, KRAS, and CDKN2A remain the most important genetic prognostic features due to the combination of their prevalence and severity of outcome."
   ]
  },
  {
   "cell_type": "markdown",
   "metadata": {},
   "source": [
    "## Summary of Important Prognostic Factors"
   ]
  },
  {
   "cell_type": "markdown",
   "metadata": {},
   "source": [
    "After performing exploratory data analysis, the most important prognostic factors from the clinical data were determined to be:\n",
    "- Number of primary tumors\n",
    "- Exposure to radiation treatments\n",
    "- Tumor stage (including TNK System)\n",
    "- Tumor location\n",
    "- Histological findings\n",
    "\n",
    "The most important prognostic factors from the genomic data were determined to be the presence of variants for the following genes:\n",
    "- TP53\n",
    "- CDKN2A\n",
    "- KRAS"
   ]
  },
  {
   "cell_type": "markdown",
   "metadata": {},
   "source": [
    "Together, these features can be used to train a random forest classification algorithm in order to predict one-year survival after diagnosis with NSCLC."
   ]
  },
  {
   "cell_type": "markdown",
   "metadata": {},
   "source": [
    "## Data Preprocessing"
   ]
  },
  {
   "cell_type": "code",
   "execution_count": 3955,
   "metadata": {},
   "outputs": [
    {
     "data": {
      "text/html": [
       "<div>\n",
       "<style scoped>\n",
       "    .dataframe tbody tr th:only-of-type {\n",
       "        vertical-align: middle;\n",
       "    }\n",
       "\n",
       "    .dataframe tbody tr th {\n",
       "        vertical-align: top;\n",
       "    }\n",
       "\n",
       "    .dataframe thead th {\n",
       "        text-align: right;\n",
       "    }\n",
       "</style>\n",
       "<table border=\"1\" class=\"dataframe\">\n",
       "  <thead>\n",
       "    <tr style=\"text-align: right;\">\n",
       "      <th></th>\n",
       "      <th>ID</th>\n",
       "      <th>Outcome</th>\n",
       "      <th>Survival.Months</th>\n",
       "      <th>Age</th>\n",
       "      <th>Num.Primaries</th>\n",
       "      <th>T</th>\n",
       "      <th>N</th>\n",
       "      <th>M</th>\n",
       "      <th>Radiation</th>\n",
       "      <th>Stage</th>\n",
       "      <th>Primary.Site</th>\n",
       "      <th>Histology</th>\n",
       "      <th>Tumor.Size</th>\n",
       "    </tr>\n",
       "  </thead>\n",
       "  <tbody>\n",
       "    <tr>\n",
       "      <th>0</th>\n",
       "      <td>1</td>\n",
       "      <td>Alive</td>\n",
       "      <td>9.0</td>\n",
       "      <td>67</td>\n",
       "      <td>0</td>\n",
       "      <td>UNK</td>\n",
       "      <td>2.0</td>\n",
       "      <td>0.0</td>\n",
       "      <td>0</td>\n",
       "      <td>IV</td>\n",
       "      <td>Left Lower Lobe</td>\n",
       "      <td>Squamous cell carcinoma</td>\n",
       "      <td>1.400000</td>\n",
       "    </tr>\n",
       "    <tr>\n",
       "      <th>1</th>\n",
       "      <td>2</td>\n",
       "      <td>Dead</td>\n",
       "      <td>19.0</td>\n",
       "      <td>73</td>\n",
       "      <td>0</td>\n",
       "      <td>UNK</td>\n",
       "      <td>2.0</td>\n",
       "      <td>0.0</td>\n",
       "      <td>5</td>\n",
       "      <td>IV</td>\n",
       "      <td>Right Upper Lobe</td>\n",
       "      <td>Adenocarcinoma</td>\n",
       "      <td>4.494898</td>\n",
       "    </tr>\n",
       "    <tr>\n",
       "      <th>2</th>\n",
       "      <td>3</td>\n",
       "      <td>Dead</td>\n",
       "      <td>13.0</td>\n",
       "      <td>72</td>\n",
       "      <td>0</td>\n",
       "      <td>2</td>\n",
       "      <td>2.0</td>\n",
       "      <td>0.0</td>\n",
       "      <td>0</td>\n",
       "      <td>IIIA</td>\n",
       "      <td>Right Upper Lobe</td>\n",
       "      <td>Adenocarcinoma</td>\n",
       "      <td>1.500000</td>\n",
       "    </tr>\n",
       "    <tr>\n",
       "      <th>3</th>\n",
       "      <td>4</td>\n",
       "      <td>Dead</td>\n",
       "      <td>15.0</td>\n",
       "      <td>69</td>\n",
       "      <td>1</td>\n",
       "      <td>1a</td>\n",
       "      <td>0.0</td>\n",
       "      <td>1.0</td>\n",
       "      <td>0</td>\n",
       "      <td>IA</td>\n",
       "      <td>Right Upper Lobe</td>\n",
       "      <td>Adenocarcinoma</td>\n",
       "      <td>4.494898</td>\n",
       "    </tr>\n",
       "    <tr>\n",
       "      <th>4</th>\n",
       "      <td>5</td>\n",
       "      <td>Dead</td>\n",
       "      <td>10.0</td>\n",
       "      <td>76</td>\n",
       "      <td>0</td>\n",
       "      <td>UNK</td>\n",
       "      <td>1.0</td>\n",
       "      <td>0.0</td>\n",
       "      <td>0</td>\n",
       "      <td>IIIA</td>\n",
       "      <td>Left Hilar</td>\n",
       "      <td>Large-cell carcinoma</td>\n",
       "      <td>4.494898</td>\n",
       "    </tr>\n",
       "  </tbody>\n",
       "</table>\n",
       "</div>"
      ],
      "text/plain": [
       "   ID Outcome  Survival.Months  Age  Num.Primaries    T    N    M  Radiation  \\\n",
       "0   1   Alive              9.0   67              0  UNK  2.0  0.0          0   \n",
       "1   2    Dead             19.0   73              0  UNK  2.0  0.0          5   \n",
       "2   3    Dead             13.0   72              0    2  2.0  0.0          0   \n",
       "3   4    Dead             15.0   69              1   1a  0.0  1.0          0   \n",
       "4   5    Dead             10.0   76              0  UNK  1.0  0.0          0   \n",
       "\n",
       "  Stage      Primary.Site                Histology  Tumor.Size  \n",
       "0    IV   Left Lower Lobe  Squamous cell carcinoma    1.400000  \n",
       "1    IV  Right Upper Lobe           Adenocarcinoma    4.494898  \n",
       "2  IIIA  Right Upper Lobe           Adenocarcinoma    1.500000  \n",
       "3    IA  Right Upper Lobe           Adenocarcinoma    4.494898  \n",
       "4  IIIA        Left Hilar     Large-cell carcinoma    4.494898  "
      ]
     },
     "execution_count": 3955,
     "metadata": {},
     "output_type": "execute_result"
    }
   ],
   "source": [
    "data = df_data_clinical.copy()\n",
    "data.head()"
   ]
  },
  {
   "cell_type": "code",
   "execution_count": 3956,
   "metadata": {},
   "outputs": [],
   "source": [
    "data = data.reset_index()\n",
    "new_T = []\n",
    "new_stage = []\n",
    "new_radiation = []\n",
    "new_primary_site = []\n",
    "new_outcome = []\n",
    "\n",
    "for index, row in data.iterrows():\n",
    "\n",
    "    # T: converting non-null values to integers\n",
    "    if (row['T'] != 'UNK'):\n",
    "        new_T.append(int(row['T'][0]))      # remove intermediate classes\n",
    "    else:\n",
    "        new_T.append(row['T'])\n",
    "\n",
    "    # Radiation: converting to Boolean flags\n",
    "    if (row['Radiation'] == 5):\n",
    "        new_radiation.append(1)     # exposure to radiation treatment\n",
    "    else:\n",
    "        new_radiation.append(0)     # no exposure to radiation treatment\n",
    "\n",
    "    # Primary Site: converting to Boolean flags\n",
    "    if (row['Primary.Site'] == 'Both Lung'):\n",
    "        new_primary_site.append(1)      # flag for high risk\n",
    "    else:\n",
    "        new_primary_site.append(0)      # flag for lower risk\n",
    "\n",
    "    # Stage: converting to numeric values (remove intermediate classes)\n",
    "    if (row['Stage'] in ['IA','IB','1B']):      # stage 1\n",
    "        new_stage.append(1)\n",
    "    elif (row['Stage'] in ['IIA','IIB']):       # stage 2\n",
    "        new_stage.append(2)\n",
    "    elif (row['Stage'] in ['IIIA','IIIB']):     # stage 3\n",
    "        new_stage.append(3)\n",
    "    elif (row['Stage'] in ['IV','IVB']):        # stage 4\n",
    "        new_stage.append(4)\n",
    "\n",
    "    # Outcome: converting to Boolean flags\n",
    "    if (row['Outcome'] == 'Alive'):\n",
    "        new_outcome.append(1)       # patient is living\n",
    "    elif (row['Outcome'] == 'Dead'):\n",
    "        new_outcome.append(0)       # patient is deceased\n"
   ]
  },
  {
   "cell_type": "code",
   "execution_count": 3957,
   "metadata": {},
   "outputs": [],
   "source": [
    "# update data with new cleaned columns\n",
    "data['T'] = new_T\n",
    "data['Stage'] = new_stage\n",
    "data['Both Lungs'] = new_primary_site\n",
    "data['Radiation'] = new_radiation\n",
    "data['Tumor.Size'] = data['Tumor.Size'].round()\n",
    "data['Outcome'] = new_outcome\n"
   ]
  },
  {
   "cell_type": "code",
   "execution_count": 3958,
   "metadata": {},
   "outputs": [],
   "source": [
    "# replace the UNK entries in T with the mean\n",
    "data['T'] = data['T'].replace('UNK', np.nan)\n",
    "T_mean = data['T'].mean()\n",
    "T_mean = T_mean.round()\n",
    "data['T'].fillna(value=T_mean, inplace=True)"
   ]
  },
  {
   "cell_type": "code",
   "execution_count": 3959,
   "metadata": {},
   "outputs": [
    {
     "data": {
      "text/html": [
       "<div>\n",
       "<style scoped>\n",
       "    .dataframe tbody tr th:only-of-type {\n",
       "        vertical-align: middle;\n",
       "    }\n",
       "\n",
       "    .dataframe tbody tr th {\n",
       "        vertical-align: top;\n",
       "    }\n",
       "\n",
       "    .dataframe thead th {\n",
       "        text-align: right;\n",
       "    }\n",
       "</style>\n",
       "<table border=\"1\" class=\"dataframe\">\n",
       "  <thead>\n",
       "    <tr style=\"text-align: right;\">\n",
       "      <th></th>\n",
       "      <th>ID</th>\n",
       "      <th>Outcome</th>\n",
       "      <th>Survival.Months</th>\n",
       "      <th>Age</th>\n",
       "      <th>Num.Primaries</th>\n",
       "      <th>T</th>\n",
       "      <th>N</th>\n",
       "      <th>M</th>\n",
       "      <th>Radiation</th>\n",
       "      <th>Stage</th>\n",
       "      <th>Histology</th>\n",
       "      <th>Tumor.Size</th>\n",
       "      <th>Both Lungs</th>\n",
       "    </tr>\n",
       "  </thead>\n",
       "  <tbody>\n",
       "    <tr>\n",
       "      <th>0</th>\n",
       "      <td>1</td>\n",
       "      <td>1</td>\n",
       "      <td>9.0</td>\n",
       "      <td>67</td>\n",
       "      <td>0</td>\n",
       "      <td>2.0</td>\n",
       "      <td>2.0</td>\n",
       "      <td>0.0</td>\n",
       "      <td>0</td>\n",
       "      <td>4</td>\n",
       "      <td>Squamous cell carcinoma</td>\n",
       "      <td>1.0</td>\n",
       "      <td>0</td>\n",
       "    </tr>\n",
       "    <tr>\n",
       "      <th>1</th>\n",
       "      <td>2</td>\n",
       "      <td>0</td>\n",
       "      <td>19.0</td>\n",
       "      <td>73</td>\n",
       "      <td>0</td>\n",
       "      <td>2.0</td>\n",
       "      <td>2.0</td>\n",
       "      <td>0.0</td>\n",
       "      <td>1</td>\n",
       "      <td>4</td>\n",
       "      <td>Adenocarcinoma</td>\n",
       "      <td>4.0</td>\n",
       "      <td>0</td>\n",
       "    </tr>\n",
       "    <tr>\n",
       "      <th>2</th>\n",
       "      <td>3</td>\n",
       "      <td>0</td>\n",
       "      <td>13.0</td>\n",
       "      <td>72</td>\n",
       "      <td>0</td>\n",
       "      <td>2.0</td>\n",
       "      <td>2.0</td>\n",
       "      <td>0.0</td>\n",
       "      <td>0</td>\n",
       "      <td>3</td>\n",
       "      <td>Adenocarcinoma</td>\n",
       "      <td>2.0</td>\n",
       "      <td>0</td>\n",
       "    </tr>\n",
       "    <tr>\n",
       "      <th>3</th>\n",
       "      <td>4</td>\n",
       "      <td>0</td>\n",
       "      <td>15.0</td>\n",
       "      <td>69</td>\n",
       "      <td>1</td>\n",
       "      <td>1.0</td>\n",
       "      <td>0.0</td>\n",
       "      <td>1.0</td>\n",
       "      <td>0</td>\n",
       "      <td>1</td>\n",
       "      <td>Adenocarcinoma</td>\n",
       "      <td>4.0</td>\n",
       "      <td>0</td>\n",
       "    </tr>\n",
       "    <tr>\n",
       "      <th>4</th>\n",
       "      <td>5</td>\n",
       "      <td>0</td>\n",
       "      <td>10.0</td>\n",
       "      <td>76</td>\n",
       "      <td>0</td>\n",
       "      <td>2.0</td>\n",
       "      <td>1.0</td>\n",
       "      <td>0.0</td>\n",
       "      <td>0</td>\n",
       "      <td>3</td>\n",
       "      <td>Large-cell carcinoma</td>\n",
       "      <td>4.0</td>\n",
       "      <td>0</td>\n",
       "    </tr>\n",
       "    <tr>\n",
       "      <th>...</th>\n",
       "      <td>...</td>\n",
       "      <td>...</td>\n",
       "      <td>...</td>\n",
       "      <td>...</td>\n",
       "      <td>...</td>\n",
       "      <td>...</td>\n",
       "      <td>...</td>\n",
       "      <td>...</td>\n",
       "      <td>...</td>\n",
       "      <td>...</td>\n",
       "      <td>...</td>\n",
       "      <td>...</td>\n",
       "      <td>...</td>\n",
       "    </tr>\n",
       "    <tr>\n",
       "      <th>185</th>\n",
       "      <td>186</td>\n",
       "      <td>0</td>\n",
       "      <td>32.0</td>\n",
       "      <td>82</td>\n",
       "      <td>0</td>\n",
       "      <td>4.0</td>\n",
       "      <td>0.0</td>\n",
       "      <td>1.0</td>\n",
       "      <td>0</td>\n",
       "      <td>3</td>\n",
       "      <td>Squamous cell carcinoma</td>\n",
       "      <td>9.0</td>\n",
       "      <td>0</td>\n",
       "    </tr>\n",
       "    <tr>\n",
       "      <th>186</th>\n",
       "      <td>187</td>\n",
       "      <td>0</td>\n",
       "      <td>10.0</td>\n",
       "      <td>62</td>\n",
       "      <td>0</td>\n",
       "      <td>3.0</td>\n",
       "      <td>2.0</td>\n",
       "      <td>0.0</td>\n",
       "      <td>0</td>\n",
       "      <td>4</td>\n",
       "      <td>Large-cell carcinoma</td>\n",
       "      <td>4.0</td>\n",
       "      <td>0</td>\n",
       "    </tr>\n",
       "    <tr>\n",
       "      <th>187</th>\n",
       "      <td>188</td>\n",
       "      <td>0</td>\n",
       "      <td>23.0</td>\n",
       "      <td>72</td>\n",
       "      <td>0</td>\n",
       "      <td>3.0</td>\n",
       "      <td>1.0</td>\n",
       "      <td>0.0</td>\n",
       "      <td>0</td>\n",
       "      <td>1</td>\n",
       "      <td>Squamous cell carcinoma</td>\n",
       "      <td>2.0</td>\n",
       "      <td>0</td>\n",
       "    </tr>\n",
       "    <tr>\n",
       "      <th>188</th>\n",
       "      <td>189</td>\n",
       "      <td>0</td>\n",
       "      <td>32.0</td>\n",
       "      <td>67</td>\n",
       "      <td>1</td>\n",
       "      <td>1.0</td>\n",
       "      <td>1.0</td>\n",
       "      <td>0.0</td>\n",
       "      <td>0</td>\n",
       "      <td>4</td>\n",
       "      <td>Adenocarcinoma</td>\n",
       "      <td>10.0</td>\n",
       "      <td>0</td>\n",
       "    </tr>\n",
       "    <tr>\n",
       "      <th>189</th>\n",
       "      <td>190</td>\n",
       "      <td>0</td>\n",
       "      <td>33.0</td>\n",
       "      <td>71</td>\n",
       "      <td>0</td>\n",
       "      <td>2.0</td>\n",
       "      <td>1.0</td>\n",
       "      <td>0.0</td>\n",
       "      <td>0</td>\n",
       "      <td>3</td>\n",
       "      <td>Adenocarcinoma</td>\n",
       "      <td>4.0</td>\n",
       "      <td>0</td>\n",
       "    </tr>\n",
       "  </tbody>\n",
       "</table>\n",
       "<p>190 rows × 13 columns</p>\n",
       "</div>"
      ],
      "text/plain": [
       "      ID  Outcome  Survival.Months  Age  Num.Primaries    T    N    M  \\\n",
       "0      1        1              9.0   67              0  2.0  2.0  0.0   \n",
       "1      2        0             19.0   73              0  2.0  2.0  0.0   \n",
       "2      3        0             13.0   72              0  2.0  2.0  0.0   \n",
       "3      4        0             15.0   69              1  1.0  0.0  1.0   \n",
       "4      5        0             10.0   76              0  2.0  1.0  0.0   \n",
       "..   ...      ...              ...  ...            ...  ...  ...  ...   \n",
       "185  186        0             32.0   82              0  4.0  0.0  1.0   \n",
       "186  187        0             10.0   62              0  3.0  2.0  0.0   \n",
       "187  188        0             23.0   72              0  3.0  1.0  0.0   \n",
       "188  189        0             32.0   67              1  1.0  1.0  0.0   \n",
       "189  190        0             33.0   71              0  2.0  1.0  0.0   \n",
       "\n",
       "     Radiation  Stage                Histology  Tumor.Size  Both Lungs  \n",
       "0            0      4  Squamous cell carcinoma         1.0           0  \n",
       "1            1      4           Adenocarcinoma         4.0           0  \n",
       "2            0      3           Adenocarcinoma         2.0           0  \n",
       "3            0      1           Adenocarcinoma         4.0           0  \n",
       "4            0      3     Large-cell carcinoma         4.0           0  \n",
       "..         ...    ...                      ...         ...         ...  \n",
       "185          0      3  Squamous cell carcinoma         9.0           0  \n",
       "186          0      4     Large-cell carcinoma         4.0           0  \n",
       "187          0      1  Squamous cell carcinoma         2.0           0  \n",
       "188          0      4           Adenocarcinoma        10.0           0  \n",
       "189          0      3           Adenocarcinoma         4.0           0  \n",
       "\n",
       "[190 rows x 13 columns]"
      ]
     },
     "execution_count": 3959,
     "metadata": {},
     "output_type": "execute_result"
    }
   ],
   "source": [
    "data = data.drop(columns=['index', 'Primary.Site'])\n",
    "data"
   ]
  },
  {
   "cell_type": "code",
   "execution_count": 3960,
   "metadata": {},
   "outputs": [
    {
     "data": {
      "text/html": [
       "<div>\n",
       "<style scoped>\n",
       "    .dataframe tbody tr th:only-of-type {\n",
       "        vertical-align: middle;\n",
       "    }\n",
       "\n",
       "    .dataframe tbody tr th {\n",
       "        vertical-align: top;\n",
       "    }\n",
       "\n",
       "    .dataframe thead th {\n",
       "        text-align: right;\n",
       "    }\n",
       "</style>\n",
       "<table border=\"1\" class=\"dataframe\">\n",
       "  <thead>\n",
       "    <tr style=\"text-align: right;\">\n",
       "      <th></th>\n",
       "      <th>ID</th>\n",
       "      <th>Outcome</th>\n",
       "      <th>Survival.Months</th>\n",
       "      <th>Age</th>\n",
       "      <th>Num.Primaries</th>\n",
       "      <th>T</th>\n",
       "      <th>N</th>\n",
       "      <th>M</th>\n",
       "      <th>Radiation</th>\n",
       "      <th>Stage</th>\n",
       "      <th>Tumor.Size</th>\n",
       "      <th>Both Lungs</th>\n",
       "      <th>Adenocarcinoma</th>\n",
       "      <th>Large-cell carcinoma</th>\n",
       "      <th>Squamous cell carcinoma</th>\n",
       "    </tr>\n",
       "  </thead>\n",
       "  <tbody>\n",
       "    <tr>\n",
       "      <th>0</th>\n",
       "      <td>1</td>\n",
       "      <td>1</td>\n",
       "      <td>9.0</td>\n",
       "      <td>67</td>\n",
       "      <td>0</td>\n",
       "      <td>2.0</td>\n",
       "      <td>2.0</td>\n",
       "      <td>0.0</td>\n",
       "      <td>0</td>\n",
       "      <td>4</td>\n",
       "      <td>1.0</td>\n",
       "      <td>0</td>\n",
       "      <td>0</td>\n",
       "      <td>0</td>\n",
       "      <td>1</td>\n",
       "    </tr>\n",
       "    <tr>\n",
       "      <th>1</th>\n",
       "      <td>2</td>\n",
       "      <td>0</td>\n",
       "      <td>19.0</td>\n",
       "      <td>73</td>\n",
       "      <td>0</td>\n",
       "      <td>2.0</td>\n",
       "      <td>2.0</td>\n",
       "      <td>0.0</td>\n",
       "      <td>1</td>\n",
       "      <td>4</td>\n",
       "      <td>4.0</td>\n",
       "      <td>0</td>\n",
       "      <td>1</td>\n",
       "      <td>0</td>\n",
       "      <td>0</td>\n",
       "    </tr>\n",
       "    <tr>\n",
       "      <th>2</th>\n",
       "      <td>3</td>\n",
       "      <td>0</td>\n",
       "      <td>13.0</td>\n",
       "      <td>72</td>\n",
       "      <td>0</td>\n",
       "      <td>2.0</td>\n",
       "      <td>2.0</td>\n",
       "      <td>0.0</td>\n",
       "      <td>0</td>\n",
       "      <td>3</td>\n",
       "      <td>2.0</td>\n",
       "      <td>0</td>\n",
       "      <td>1</td>\n",
       "      <td>0</td>\n",
       "      <td>0</td>\n",
       "    </tr>\n",
       "    <tr>\n",
       "      <th>3</th>\n",
       "      <td>4</td>\n",
       "      <td>0</td>\n",
       "      <td>15.0</td>\n",
       "      <td>69</td>\n",
       "      <td>1</td>\n",
       "      <td>1.0</td>\n",
       "      <td>0.0</td>\n",
       "      <td>1.0</td>\n",
       "      <td>0</td>\n",
       "      <td>1</td>\n",
       "      <td>4.0</td>\n",
       "      <td>0</td>\n",
       "      <td>1</td>\n",
       "      <td>0</td>\n",
       "      <td>0</td>\n",
       "    </tr>\n",
       "    <tr>\n",
       "      <th>4</th>\n",
       "      <td>5</td>\n",
       "      <td>0</td>\n",
       "      <td>10.0</td>\n",
       "      <td>76</td>\n",
       "      <td>0</td>\n",
       "      <td>2.0</td>\n",
       "      <td>1.0</td>\n",
       "      <td>0.0</td>\n",
       "      <td>0</td>\n",
       "      <td>3</td>\n",
       "      <td>4.0</td>\n",
       "      <td>0</td>\n",
       "      <td>0</td>\n",
       "      <td>1</td>\n",
       "      <td>0</td>\n",
       "    </tr>\n",
       "  </tbody>\n",
       "</table>\n",
       "</div>"
      ],
      "text/plain": [
       "   ID  Outcome  Survival.Months  Age  Num.Primaries    T    N    M  Radiation  \\\n",
       "0   1        1              9.0   67              0  2.0  2.0  0.0          0   \n",
       "1   2        0             19.0   73              0  2.0  2.0  0.0          1   \n",
       "2   3        0             13.0   72              0  2.0  2.0  0.0          0   \n",
       "3   4        0             15.0   69              1  1.0  0.0  1.0          0   \n",
       "4   5        0             10.0   76              0  2.0  1.0  0.0          0   \n",
       "\n",
       "   Stage  Tumor.Size  Both Lungs  Adenocarcinoma  Large-cell carcinoma  \\\n",
       "0      4         1.0           0               0                     0   \n",
       "1      4         4.0           0               1                     0   \n",
       "2      3         2.0           0               1                     0   \n",
       "3      1         4.0           0               1                     0   \n",
       "4      3         4.0           0               0                     1   \n",
       "\n",
       "   Squamous cell carcinoma  \n",
       "0                        1  \n",
       "1                        0  \n",
       "2                        0  \n",
       "3                        0  \n",
       "4                        0  "
      ]
     },
     "execution_count": 3960,
     "metadata": {},
     "output_type": "execute_result"
    }
   ],
   "source": [
    "# divide histological findings into three separate columns\n",
    "onehot_hist = pd.get_dummies(data['Histology'])\n",
    "data = data.drop(columns=['Histology'])\n",
    "data = data.join(onehot_hist)\n",
    "\n",
    "data.head()"
   ]
  },
  {
   "cell_type": "code",
   "execution_count": 3961,
   "metadata": {},
   "outputs": [],
   "source": [
    "# at risk genes\n",
    "TP53_Col1 = []\n",
    "KRAS_Col1 = []\n",
    "CDKN2A = []\n",
    "\n",
    "gene_list = [TP53_Col1, KRAS_Col1, CDKN2A]\n",
    "gene_string_list = ['TP53_Col1', 'KRAS_Col1', 'CDKN2A']\n",
    "\n",
    "for index2, row2 in data.iterrows():\n",
    "    for gene, gene_string in zip(gene_list, gene_string_list):\n",
    "        df_at_risk_genes = df_data_genomic_raw[df_data_genomic_raw['Gene'] == gene_string]\n",
    "\n",
    "        # add Boolean flags for the presence of specific at-risk genes\n",
    "        if (row2['ID'] in df_at_risk_genes['ID'].values):\n",
    "            gene.append(1)      # gene variant is present\n",
    "        else:\n",
    "            gene.append(0)      # gene variant is not present"
   ]
  },
  {
   "cell_type": "code",
   "execution_count": 3962,
   "metadata": {},
   "outputs": [],
   "source": [
    "# add the new gene variant columns to the dataframe\n",
    "for col_name, col in zip(gene_string_list, gene_list):\n",
    "    data[col_name] = col"
   ]
  },
  {
   "cell_type": "markdown",
   "metadata": {},
   "source": [
    "### Final Cleaned Data"
   ]
  },
  {
   "cell_type": "code",
   "execution_count": 3963,
   "metadata": {},
   "outputs": [
    {
     "data": {
      "text/html": [
       "<div>\n",
       "<style scoped>\n",
       "    .dataframe tbody tr th:only-of-type {\n",
       "        vertical-align: middle;\n",
       "    }\n",
       "\n",
       "    .dataframe tbody tr th {\n",
       "        vertical-align: top;\n",
       "    }\n",
       "\n",
       "    .dataframe thead th {\n",
       "        text-align: right;\n",
       "    }\n",
       "</style>\n",
       "<table border=\"1\" class=\"dataframe\">\n",
       "  <thead>\n",
       "    <tr style=\"text-align: right;\">\n",
       "      <th></th>\n",
       "      <th>ID</th>\n",
       "      <th>Outcome</th>\n",
       "      <th>Survival.Months</th>\n",
       "      <th>Age</th>\n",
       "      <th>Num.Primaries</th>\n",
       "      <th>T</th>\n",
       "      <th>N</th>\n",
       "      <th>M</th>\n",
       "      <th>Radiation</th>\n",
       "      <th>Stage</th>\n",
       "      <th>Tumor.Size</th>\n",
       "      <th>Both Lungs</th>\n",
       "      <th>Adenocarcinoma</th>\n",
       "      <th>Large-cell carcinoma</th>\n",
       "      <th>Squamous cell carcinoma</th>\n",
       "      <th>TP53_Col1</th>\n",
       "      <th>KRAS_Col1</th>\n",
       "      <th>CDKN2A</th>\n",
       "    </tr>\n",
       "  </thead>\n",
       "  <tbody>\n",
       "    <tr>\n",
       "      <th>0</th>\n",
       "      <td>1</td>\n",
       "      <td>1</td>\n",
       "      <td>9.0</td>\n",
       "      <td>67</td>\n",
       "      <td>0</td>\n",
       "      <td>2.0</td>\n",
       "      <td>2.0</td>\n",
       "      <td>0.0</td>\n",
       "      <td>0</td>\n",
       "      <td>4</td>\n",
       "      <td>1.0</td>\n",
       "      <td>0</td>\n",
       "      <td>0</td>\n",
       "      <td>0</td>\n",
       "      <td>1</td>\n",
       "      <td>0</td>\n",
       "      <td>1</td>\n",
       "      <td>0</td>\n",
       "    </tr>\n",
       "    <tr>\n",
       "      <th>1</th>\n",
       "      <td>2</td>\n",
       "      <td>0</td>\n",
       "      <td>19.0</td>\n",
       "      <td>73</td>\n",
       "      <td>0</td>\n",
       "      <td>2.0</td>\n",
       "      <td>2.0</td>\n",
       "      <td>0.0</td>\n",
       "      <td>1</td>\n",
       "      <td>4</td>\n",
       "      <td>4.0</td>\n",
       "      <td>0</td>\n",
       "      <td>1</td>\n",
       "      <td>0</td>\n",
       "      <td>0</td>\n",
       "      <td>1</td>\n",
       "      <td>0</td>\n",
       "      <td>0</td>\n",
       "    </tr>\n",
       "    <tr>\n",
       "      <th>2</th>\n",
       "      <td>3</td>\n",
       "      <td>0</td>\n",
       "      <td>13.0</td>\n",
       "      <td>72</td>\n",
       "      <td>0</td>\n",
       "      <td>2.0</td>\n",
       "      <td>2.0</td>\n",
       "      <td>0.0</td>\n",
       "      <td>0</td>\n",
       "      <td>3</td>\n",
       "      <td>2.0</td>\n",
       "      <td>0</td>\n",
       "      <td>1</td>\n",
       "      <td>0</td>\n",
       "      <td>0</td>\n",
       "      <td>0</td>\n",
       "      <td>0</td>\n",
       "      <td>0</td>\n",
       "    </tr>\n",
       "    <tr>\n",
       "      <th>3</th>\n",
       "      <td>4</td>\n",
       "      <td>0</td>\n",
       "      <td>15.0</td>\n",
       "      <td>69</td>\n",
       "      <td>1</td>\n",
       "      <td>1.0</td>\n",
       "      <td>0.0</td>\n",
       "      <td>1.0</td>\n",
       "      <td>0</td>\n",
       "      <td>1</td>\n",
       "      <td>4.0</td>\n",
       "      <td>0</td>\n",
       "      <td>1</td>\n",
       "      <td>0</td>\n",
       "      <td>0</td>\n",
       "      <td>1</td>\n",
       "      <td>0</td>\n",
       "      <td>1</td>\n",
       "    </tr>\n",
       "    <tr>\n",
       "      <th>4</th>\n",
       "      <td>5</td>\n",
       "      <td>0</td>\n",
       "      <td>10.0</td>\n",
       "      <td>76</td>\n",
       "      <td>0</td>\n",
       "      <td>2.0</td>\n",
       "      <td>1.0</td>\n",
       "      <td>0.0</td>\n",
       "      <td>0</td>\n",
       "      <td>3</td>\n",
       "      <td>4.0</td>\n",
       "      <td>0</td>\n",
       "      <td>0</td>\n",
       "      <td>1</td>\n",
       "      <td>0</td>\n",
       "      <td>1</td>\n",
       "      <td>1</td>\n",
       "      <td>0</td>\n",
       "    </tr>\n",
       "  </tbody>\n",
       "</table>\n",
       "</div>"
      ],
      "text/plain": [
       "   ID  Outcome  Survival.Months  Age  Num.Primaries    T    N    M  Radiation  \\\n",
       "0   1        1              9.0   67              0  2.0  2.0  0.0          0   \n",
       "1   2        0             19.0   73              0  2.0  2.0  0.0          1   \n",
       "2   3        0             13.0   72              0  2.0  2.0  0.0          0   \n",
       "3   4        0             15.0   69              1  1.0  0.0  1.0          0   \n",
       "4   5        0             10.0   76              0  2.0  1.0  0.0          0   \n",
       "\n",
       "   Stage  Tumor.Size  Both Lungs  Adenocarcinoma  Large-cell carcinoma  \\\n",
       "0      4         1.0           0               0                     0   \n",
       "1      4         4.0           0               1                     0   \n",
       "2      3         2.0           0               1                     0   \n",
       "3      1         4.0           0               1                     0   \n",
       "4      3         4.0           0               0                     1   \n",
       "\n",
       "   Squamous cell carcinoma  TP53_Col1  KRAS_Col1  CDKN2A  \n",
       "0                        1          0          1       0  \n",
       "1                        0          1          0       0  \n",
       "2                        0          0          0       0  \n",
       "3                        0          1          0       1  \n",
       "4                        0          1          1       0  "
      ]
     },
     "execution_count": 3963,
     "metadata": {},
     "output_type": "execute_result"
    }
   ],
   "source": [
    "data.head()"
   ]
  },
  {
   "cell_type": "markdown",
   "metadata": {},
   "source": [
    "## Building the Model"
   ]
  },
  {
   "cell_type": "markdown",
   "metadata": {},
   "source": [
    "Because this model is tasked with predicting a discrete value after a given time step (alive or deceased), a classification algorithm is best suited for this task. **Classification** is broadly defined as a problem of identifying which set of categories a new observation belongs to. Thus, the model can help predict, given clinical and genomic data, which outcome class a patient might belong to after a 12-month period. \n",
    "\n",
    "One of many classification techniques, **random forest** classification algorithms are generally well suited for big data classification. Random forest classification works via the operation of a large ensemble of individual diceision trees. After each individual decision tree in the forest produces a class prediction, the class with the most votes forms the overall model's prediction. Compared to a simple decision tree, random forest classification algorithms avoid and prevent overfitting through this usage of multiple trees.\n",
    "\n",
    "This implementation of random forest classification uses the `sklearn.RandomForestClassifer`. Random forest classification was chosen as the ideal classification algorithm with which to build this model due to the ease of hyperparamater tuning and its ability to avoid overfitting. Additionally, a quick literature seach revealed that random forest classification is commonly used for similar modeling tasks of predicting cancer outcomes from genomic and/or clinical data."
   ]
  },
  {
   "cell_type": "code",
   "execution_count": 3964,
   "metadata": {},
   "outputs": [
    {
     "data": {
      "text/plain": [
       "(190, 16)"
      ]
     },
     "execution_count": 3964,
     "metadata": {},
     "output_type": "execute_result"
    }
   ],
   "source": [
    "X = data.drop(columns=['ID', 'Outcome'])\n",
    "X.shape"
   ]
  },
  {
   "cell_type": "code",
   "execution_count": 3965,
   "metadata": {},
   "outputs": [
    {
     "data": {
      "text/plain": [
       "(190,)"
      ]
     },
     "execution_count": 3965,
     "metadata": {},
     "output_type": "execute_result"
    }
   ],
   "source": [
    "y = data.loc[:, 'Outcome']\n",
    "y.shape"
   ]
  },
  {
   "cell_type": "markdown",
   "metadata": {},
   "source": [
    "After hyperparameter tuning, the ideal `test_size` was determined to be 0.20 and the ideal `n_estimators` was determined to be 100. While lower numbers of estimators were initially tested to avoid issues of overfitting, K Folds cross-validation confirmed minimal changes in mean absolute error resulted from increasing the number of estimators from 10 to 100. Similarly, a conventional 80/20 train/test split was determined to yield the highest accuracy at minimal cost to mean absolute error. The entropy criterion for `RandomForestClassifier()` was selected in the hopes of providing better results. Given the relatively small size of this dataset at 190 rows, the performance cost of using entropy instead of gini is minimal."
   ]
  },
  {
   "cell_type": "code",
   "execution_count": 3966,
   "metadata": {},
   "outputs": [],
   "source": [
    "X_train, X_test, y_train, y_test = train_test_split(X, y, test_size=0.20)"
   ]
  },
  {
   "cell_type": "code",
   "execution_count": 3967,
   "metadata": {},
   "outputs": [],
   "source": [
    "model = RandomForestClassifier(n_estimators=100, criterion=\"entropy\")\n",
    "\n",
    "model.fit(X_train, y_train)\n",
    "predictions = model.predict(X_test)"
   ]
  },
  {
   "cell_type": "markdown",
   "metadata": {},
   "source": [
    "## Evaluating the Model"
   ]
  },
  {
   "cell_type": "markdown",
   "metadata": {},
   "source": [
    "### Overfitting"
   ]
  },
  {
   "cell_type": "markdown",
   "metadata": {},
   "source": [
    "In contrast to `train_test_split()`, K Folds cross-validation using `Kfold()` can be used to verify whether the model is overfitted. K Folds works by splitting the dataset into **k** subsets, training the model **k** times on different training sets, and testing the model **k** times on different test sets. Mean Aboslute Error (MAE) for the training and test sets can then be calculated in order to determine if the model is overfitted."
   ]
  },
  {
   "cell_type": "code",
   "execution_count": 3968,
   "metadata": {},
   "outputs": [],
   "source": [
    "def test_overfitting(X, y):\n",
    "\n",
    "   kf = KFold(n_splits=4)\n",
    "   mae_train = []\n",
    "   mae_test = []\n",
    "   \n",
    "   for train_index, test_index in kf.split(X):\n",
    "    \n",
    "      X_train, X_test = X.iloc[train_index], X.iloc[test_index]\n",
    "      y_train, y_test = y[train_index], y[test_index]\n",
    "      model = KNeighborsClassifier(n_neighbors=2)\n",
    "      model.fit(X_train, y_train)\n",
    "      y_train_pred = model.predict(X_train)\n",
    "      y_test_pred = model.predict(X_test)\n",
    "      mae_train.append(mean_absolute_error(y_train, y_train_pred))\n",
    "      mae_test.append(mean_absolute_error(y_test, y_test_pred))\n",
    "\n",
    "   folds = range(1, kf.get_n_splits() + 1)\n",
    "   plt.plot(folds, mae_train, 'o-', color='green', label='train')\n",
    "   plt.plot(folds, mae_test, 'o-', color='red', label='test')\n",
    "   plt.legend()\n",
    "   plt.grid()\n",
    "   plt.xlabel('Number of Folds')\n",
    "   plt.ylabel('Mean Absolute Error')\n",
    "   plt.show()"
   ]
  },
  {
   "cell_type": "code",
   "execution_count": 3969,
   "metadata": {},
   "outputs": [
    {
     "data": {
      "image/png": "[encoded data removed]",
      "text/plain": [
       "<Figure size 432x288 with 1 Axes>"
      ]
     },
     "metadata": {},
     "output_type": "display_data"
    }
   ],
   "source": [
    "test_overfitting(X, y)"
   ]
  },
  {
   "cell_type": "markdown",
   "metadata": {},
   "source": [
    "The testing MAE ranges between 0.6 and 0.18, suggesting that the model is not overfitted."
   ]
  },
  {
   "cell_type": "markdown",
   "metadata": {},
   "source": [
    "### Accuracy"
   ]
  },
  {
   "cell_type": "code",
   "execution_count": 3970,
   "metadata": {},
   "outputs": [
    {
     "name": "stdout",
     "output_type": "stream",
     "text": [
      "Model Accuracy: 0.8947368421052632\n"
     ]
    }
   ],
   "source": [
    "accuracy = accuracy_score(y_test, predictions)\n",
    "print(\"Model Accuracy:\", accuracy)"
   ]
  },
  {
   "cell_type": "code",
   "execution_count": 3971,
   "metadata": {},
   "outputs": [
    {
     "name": "stdout",
     "output_type": "stream",
     "text": [
      "[[32  0]\n",
      " [ 4  2]]\n"
     ]
    }
   ],
   "source": [
    "conf_matrix = confusion_matrix(y_test, predictions)\n",
    "print(conf_matrix)"
   ]
  },
  {
   "cell_type": "code",
   "execution_count": 3972,
   "metadata": {},
   "outputs": [
    {
     "data": {
      "image/png": "[encoded data removed]",
      "text/plain": [
       "<Figure size 432x288 with 2 Axes>"
      ]
     },
     "metadata": {},
     "output_type": "display_data"
    }
   ],
   "source": [
    "lables = ['Positive','Negative']\n",
    "\n",
    "ax = plt.subplot()\n",
    "\n",
    "sns.heatmap(conf_matrix, annot=True, fmt='g', ax=ax);  \n",
    "\n",
    "# labels, title and ticks\n",
    "ax.set_xlabel('Predicted labels')\n",
    "ax.set_ylabel('True labels')\n",
    "ax.set_title('Confusion Matrix') \n",
    "ax.xaxis.set_ticklabels(lables) \n",
    "ax.yaxis.set_ticklabels(lables)\n",
    "\n",
    "plt.savefig('Figures/confusion_matrix.png')"
   ]
  }
 ],
 "metadata": {
  "kernelspec": {
   "display_name": "Python 3.9.13 64-bit (microsoft store)",
   "language": "python",
   "name": "python3"
  },
  "language_info": {
   "codemirror_mode": {
    "name": "ipython",
    "version": 3
   },
   "file_extension": ".py",
   "mimetype": "text/x-python",
   "name": "python",
   "nbconvert_exporter": "python",
   "pygments_lexer": "ipython3",
   "version": "3.9.13"
  },
  "orig_nbformat": 4,
  "vscode": {
   "interpreter": {
    "hash": "cd6c79ce51d865589fff4e1bce332b97073d7a2a4600fb2350f4f954ad209d79"
   }
  }
 },
 "nbformat": 4,
 "nbformat_minor": 2
}
